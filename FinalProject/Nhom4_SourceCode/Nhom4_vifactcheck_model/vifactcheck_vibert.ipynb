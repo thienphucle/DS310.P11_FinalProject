{
 "cells": [
  {
   "cell_type": "code",
   "execution_count": 1,
   "id": "65951761",
   "metadata": {
    "execution": {
     "iopub.execute_input": "2025-01-12T16:46:26.000618Z",
     "iopub.status.busy": "2025-01-12T16:46:26.000341Z",
     "iopub.status.idle": "2025-01-12T16:46:31.580290Z",
     "shell.execute_reply": "2025-01-12T16:46:31.579447Z"
    },
    "papermill": {
     "duration": 5.585737,
     "end_time": "2025-01-12T16:46:31.581831",
     "exception": false,
     "start_time": "2025-01-12T16:46:25.996094",
     "status": "completed"
    },
    "tags": []
   },
   "outputs": [],
   "source": [
    "import torch\n",
    "from torch import nn\n",
    "from torch.utils.data import Dataset, DataLoader\n",
    "from transformers import AutoTokenizer, AutoModel, AutoConfig\n",
    "from sklearn.model_selection import train_test_split\n",
    "import pandas as pd\n",
    "import numpy as np"
   ]
  },
  {
   "cell_type": "code",
   "execution_count": 2,
   "id": "bcef4cf8",
   "metadata": {
    "execution": {
     "iopub.execute_input": "2025-01-12T16:46:31.588780Z",
     "iopub.status.busy": "2025-01-12T16:46:31.588406Z",
     "iopub.status.idle": "2025-01-12T16:46:31.594246Z",
     "shell.execute_reply": "2025-01-12T16:46:31.593494Z"
    },
    "papermill": {
     "duration": 0.010214,
     "end_time": "2025-01-12T16:46:31.595443",
     "exception": false,
     "start_time": "2025-01-12T16:46:31.585229",
     "status": "completed"
    },
    "tags": []
   },
   "outputs": [],
   "source": [
    "class FactCheckDataset(Dataset):\n",
    "    def __init__(self, data, tokenizer, max_len):\n",
    "        self.data = data\n",
    "        self.tokenizer = tokenizer\n",
    "        self.max_len = max_len\n",
    "\n",
    "    def __len__(self):\n",
    "        return len(self.data)\n",
    "\n",
    "    def __getitem__(self, index):\n",
    "        # Extract relevant fields\n",
    "        row = self.data.iloc[index]\n",
    "        statement = row[\"Statement\"]\n",
    "        evidence = row[\"Evidence_List\"]  # Use multi-evidence as a single string\n",
    "        label = row[\"labels\"]\n",
    "\n",
    "        # Optionally include context if available\n",
    "        context = row[\"Context\"] if \"Context\" in self.data.columns else None\n",
    "\n",
    "        # Prepare the input text\n",
    "        if context:\n",
    "            input_text = f\"Statement: {statement} Context: {context}\"\n",
    "        else:\n",
    "            input_text = f\"Statement: {statement}\"\n",
    "\n",
    "        # Tokenize statement, context, and evidence\n",
    "        inputs = self.tokenizer(\n",
    "            text=input_text,\n",
    "            text_pair=evidence,\n",
    "            max_length=self.max_len,\n",
    "            padding=\"max_length\",\n",
    "            truncation=True,\n",
    "            return_tensors=\"pt\",\n",
    "        )\n",
    "\n",
    "        # Return tokenized data and label\n",
    "        return {\n",
    "            \"input_ids\": inputs[\"input_ids\"].squeeze(0),\n",
    "            \"attention_mask\": inputs[\"attention_mask\"].squeeze(0),\n",
    "            \"label\": torch.tensor(label, dtype=torch.long),\n",
    "        }"
   ]
  },
  {
   "cell_type": "code",
   "execution_count": 3,
   "id": "c719566f",
   "metadata": {
    "execution": {
     "iopub.execute_input": "2025-01-12T16:46:31.601518Z",
     "iopub.status.busy": "2025-01-12T16:46:31.601282Z",
     "iopub.status.idle": "2025-01-12T16:46:31.605353Z",
     "shell.execute_reply": "2025-01-12T16:46:31.604747Z"
    },
    "papermill": {
     "duration": 0.008373,
     "end_time": "2025-01-12T16:46:31.606594",
     "exception": false,
     "start_time": "2025-01-12T16:46:31.598221",
     "status": "completed"
    },
    "tags": []
   },
   "outputs": [],
   "source": [
    "class FactCheckModel(nn.Module):\n",
    "    def __init__(self, model_name, num_classes):\n",
    "        super(FactCheckModel, self).__init__()\n",
    "        self.bert = AutoModel.from_pretrained(model_name)\n",
    "        self.dropout = nn.Dropout(0.3)\n",
    "        self.fc = nn.Linear(self.bert.config.hidden_size, num_classes)\n",
    "\n",
    "    def forward(self, input_ids, attention_mask):\n",
    "        outputs = self.bert(input_ids=input_ids, attention_mask=attention_mask)\n",
    "        cls_output = outputs.last_hidden_state[:, 0, :]  # Use <cls> token\n",
    "        cls_output = self.dropout(cls_output)\n",
    "        logits = self.fc(cls_output)\n",
    "        return logits"
   ]
  },
  {
   "cell_type": "code",
   "execution_count": 4,
   "id": "b8703c24",
   "metadata": {
    "execution": {
     "iopub.execute_input": "2025-01-12T16:46:31.612368Z",
     "iopub.status.busy": "2025-01-12T16:46:31.612159Z",
     "iopub.status.idle": "2025-01-12T16:46:42.369715Z",
     "shell.execute_reply": "2025-01-12T16:46:42.368896Z"
    },
    "papermill": {
     "duration": 10.761924,
     "end_time": "2025-01-12T16:46:42.371076",
     "exception": false,
     "start_time": "2025-01-12T16:46:31.609152",
     "status": "completed"
    },
    "tags": []
   },
   "outputs": [
    {
     "data": {
      "application/vnd.jupyter.widget-view+json": {
       "model_id": "e71a105c7b2547cc9d62be04893bcd9a",
       "version_major": 2,
       "version_minor": 0
      },
      "text/plain": [
       "config.json:   0%|          | 0.00/1.40k [00:00<?, ?B/s]"
      ]
     },
     "metadata": {},
     "output_type": "display_data"
    },
    {
     "data": {
      "application/vnd.jupyter.widget-view+json": {
       "model_id": "5ee4b4d62918498d89d9eb93cb957a10",
       "version_major": 2,
       "version_minor": 0
      },
      "text/plain": [
       "vocab.txt:   0%|          | 0.00/255k [00:00<?, ?B/s]"
      ]
     },
     "metadata": {},
     "output_type": "display_data"
    },
    {
     "name": "stderr",
     "output_type": "stream",
     "text": [
      "/usr/local/lib/python3.10/dist-packages/transformers/tokenization_utils_base.py:1601: FutureWarning: `clean_up_tokenization_spaces` was not set. It will be set to `True` by default. This behavior will be depracted in transformers v4.45, and will be then set to `False` by default. For more details check this issue: https://github.com/huggingface/transformers/issues/31884\n",
      "  warnings.warn(\n"
     ]
    },
    {
     "data": {
      "application/vnd.jupyter.widget-view+json": {
       "model_id": "e8e7117f662041d9aa6e44f0b0dc429d",
       "version_major": 2,
       "version_minor": 0
      },
      "text/plain": [
       "pytorch_model.bin:   0%|          | 0.00/581M [00:00<?, ?B/s]"
      ]
     },
     "metadata": {},
     "output_type": "display_data"
    },
    {
     "data": {
      "text/plain": [
       "FactCheckModel(\n",
       "  (bert): BertModel(\n",
       "    (embeddings): BertEmbeddings(\n",
       "      (word_embeddings): Embedding(38168, 768, padding_idx=0)\n",
       "      (position_embeddings): Embedding(512, 768)\n",
       "      (token_type_embeddings): Embedding(2, 768)\n",
       "      (LayerNorm): LayerNorm((768,), eps=1e-12, elementwise_affine=True)\n",
       "      (dropout): Dropout(p=0.1, inplace=False)\n",
       "    )\n",
       "    (encoder): BertEncoder(\n",
       "      (layer): ModuleList(\n",
       "        (0-11): 12 x BertLayer(\n",
       "          (attention): BertAttention(\n",
       "            (self): BertSdpaSelfAttention(\n",
       "              (query): Linear(in_features=768, out_features=768, bias=True)\n",
       "              (key): Linear(in_features=768, out_features=768, bias=True)\n",
       "              (value): Linear(in_features=768, out_features=768, bias=True)\n",
       "              (dropout): Dropout(p=0.1, inplace=False)\n",
       "            )\n",
       "            (output): BertSelfOutput(\n",
       "              (dense): Linear(in_features=768, out_features=768, bias=True)\n",
       "              (LayerNorm): LayerNorm((768,), eps=1e-12, elementwise_affine=True)\n",
       "              (dropout): Dropout(p=0.1, inplace=False)\n",
       "            )\n",
       "          )\n",
       "          (intermediate): BertIntermediate(\n",
       "            (dense): Linear(in_features=768, out_features=3072, bias=True)\n",
       "            (intermediate_act_fn): GELUActivation()\n",
       "          )\n",
       "          (output): BertOutput(\n",
       "            (dense): Linear(in_features=3072, out_features=768, bias=True)\n",
       "            (LayerNorm): LayerNorm((768,), eps=1e-12, elementwise_affine=True)\n",
       "            (dropout): Dropout(p=0.1, inplace=False)\n",
       "          )\n",
       "        )\n",
       "      )\n",
       "    )\n",
       "    (pooler): BertPooler(\n",
       "      (dense): Linear(in_features=768, out_features=768, bias=True)\n",
       "      (activation): Tanh()\n",
       "    )\n",
       "  )\n",
       "  (dropout): Dropout(p=0.3, inplace=False)\n",
       "  (fc): Linear(in_features=768, out_features=3, bias=True)\n",
       ")"
      ]
     },
     "execution_count": 4,
     "metadata": {},
     "output_type": "execute_result"
    }
   ],
   "source": [
    "# Pre-trained model and tokenizer\n",
    "MODEL_NAME = \"FPTAI/vibert-base-cased\"\n",
    "tokenizer = AutoTokenizer.from_pretrained(MODEL_NAME)\n",
    "model = FactCheckModel(model_name=MODEL_NAME, num_classes=3)\n",
    "\n",
    "# Optimizer and loss function\n",
    "optimizer = torch.optim.AdamW(model.parameters(), lr=1e-5)\n",
    "loss_fn = torch.nn.CrossEntropyLoss()\n",
    "device = torch.device(\"cuda\" if torch.cuda.is_available() else \"cpu\")\n",
    "\n",
    "model.to(device)"
   ]
  },
  {
   "cell_type": "code",
   "execution_count": 5,
   "id": "a2b11d18",
   "metadata": {
    "execution": {
     "iopub.execute_input": "2025-01-12T16:46:42.378721Z",
     "iopub.status.busy": "2025-01-12T16:46:42.378324Z",
     "iopub.status.idle": "2025-01-12T16:46:43.841560Z",
     "shell.execute_reply": "2025-01-12T16:46:43.840575Z"
    },
    "papermill": {
     "duration": 1.468555,
     "end_time": "2025-01-12T16:46:43.843167",
     "exception": false,
     "start_time": "2025-01-12T16:46:42.374612",
     "status": "completed"
    },
    "tags": []
   },
   "outputs": [],
   "source": [
    "# Load train data\n",
    "train = pd.read_csv('/kaggle/input/vifactcheck/train_data.csv')\n",
    "train_dataset = FactCheckDataset(train, tokenizer, max_len=128)\n",
    "train_loader = DataLoader(train_dataset, batch_size=16, shuffle=True)\n",
    "\n",
    "# Load and preprocess dev data\n",
    "dev = pd.read_csv('/kaggle/input/vifactcheck/dev_data.csv')\n",
    "dev = dev.reset_index(drop=True)\n",
    "expected_columns = [\"Statement\", \"Evidence_List\", \"labels\"]\n",
    "missing_columns = [col for col in expected_columns if col not in dev.columns]\n",
    "if missing_columns:\n",
    "    raise ValueError(f\"Missing columns in dev data: {missing_columns}\")\n",
    "\n",
    "dev_dataset = FactCheckDataset(dev, tokenizer, max_len=128)\n",
    "dev_loader = DataLoader(dev_dataset, batch_size=16)"
   ]
  },
  {
   "cell_type": "code",
   "execution_count": 6,
   "id": "92595622",
   "metadata": {
    "execution": {
     "iopub.execute_input": "2025-01-12T16:46:43.850444Z",
     "iopub.status.busy": "2025-01-12T16:46:43.850182Z",
     "iopub.status.idle": "2025-01-12T16:46:43.857828Z",
     "shell.execute_reply": "2025-01-12T16:46:43.857007Z"
    },
    "papermill": {
     "duration": 0.012605,
     "end_time": "2025-01-12T16:46:43.859090",
     "exception": false,
     "start_time": "2025-01-12T16:46:43.846485",
     "status": "completed"
    },
    "tags": []
   },
   "outputs": [],
   "source": [
    "from tqdm import tqdm\n",
    "from sklearn.metrics import classification_report\n",
    "\n",
    "def train_model(model, train_loader, dev_loader, optimizer, loss_fn, epochs=5, save_path=\"best_model.pth\"):\n",
    "    best_val_acc = 0\n",
    "\n",
    "    for epoch in range(epochs):\n",
    "        model.train()\n",
    "        train_loss = 0\n",
    "\n",
    "        for batch in tqdm(train_loader, desc=f\"Training Epoch {epoch + 1}\"):\n",
    "            input_ids = batch[\"input_ids\"].to(device)\n",
    "            attention_mask = batch[\"attention_mask\"].to(device)\n",
    "            labels = batch[\"label\"].to(device)\n",
    "\n",
    "            optimizer.zero_grad()\n",
    "            logits = model(input_ids=input_ids, attention_mask=attention_mask)\n",
    "\n",
    "            loss = loss_fn(logits, labels)\n",
    "            train_loss += loss.item()\n",
    "            loss.backward()\n",
    "            optimizer.step()\n",
    "\n",
    "        print(f\"Epoch {epoch + 1}, Train Loss: {train_loss / len(train_loader):.4f}\")\n",
    "\n",
    "\n",
    "        # Validation\n",
    "        model.eval()\n",
    "        val_loss = 0\n",
    "        correct = 0\n",
    "        total = 0\n",
    "        all_preds = []\n",
    "        all_labels = []\n",
    "\n",
    "        with torch.no_grad():\n",
    "            for batch in tqdm(dev_loader, desc=\"Validating\"):\n",
    "                input_ids = batch[\"input_ids\"].to(device)\n",
    "                attention_mask = batch[\"attention_mask\"].to(device)\n",
    "                labels = batch[\"label\"].to(device)\n",
    "        \n",
    "                logits = model(input_ids=input_ids, attention_mask=attention_mask)\n",
    "                loss = loss_fn(logits, labels)\n",
    "                val_loss += loss.item()\n",
    "        \n",
    "                preds = torch.argmax(logits, dim=1)\n",
    "                correct += (preds == labels).sum().item()\n",
    "                total += labels.size(0)\n",
    "        \n",
    "                all_preds.extend(preds.cpu().numpy())\n",
    "                all_labels.extend(labels.cpu().numpy())\n",
    "        \n",
    "        val_acc = correct / total\n",
    "        print(f\"Validation Loss: {val_loss / len(dev_loader):.4f}, Validation Accuracy: {val_acc:.4f}\")\n",
    "        \n",
    "        # Print detailed metrics\n",
    "        print(classification_report(all_labels, all_preds, target_names=[\"supported\", \"refuted\", \"n.e.i\"]))"
   ]
  },
  {
   "cell_type": "code",
   "execution_count": 7,
   "id": "a0636860",
   "metadata": {
    "execution": {
     "iopub.execute_input": "2025-01-12T16:46:43.865858Z",
     "iopub.status.busy": "2025-01-12T16:46:43.865623Z",
     "iopub.status.idle": "2025-01-12T16:52:26.265692Z",
     "shell.execute_reply": "2025-01-12T16:52:26.264690Z"
    },
    "papermill": {
     "duration": 342.404987,
     "end_time": "2025-01-12T16:52:26.267202",
     "exception": false,
     "start_time": "2025-01-12T16:46:43.862215",
     "status": "completed"
    },
    "tags": []
   },
   "outputs": [
    {
     "name": "stderr",
     "output_type": "stream",
     "text": [
      "Training Epoch 1: 100%|██████████| 317/317 [01:01<00:00,  5.15it/s]\n"
     ]
    },
    {
     "name": "stdout",
     "output_type": "stream",
     "text": [
      "Epoch 1, Train Loss: 1.0688\n"
     ]
    },
    {
     "name": "stderr",
     "output_type": "stream",
     "text": [
      "Validating: 100%|██████████| 46/46 [00:06<00:00,  7.14it/s]\n"
     ]
    },
    {
     "name": "stdout",
     "output_type": "stream",
     "text": [
      "Validation Loss: 0.9942, Validation Accuracy: 0.4799\n",
      "              precision    recall  f1-score   support\n",
      "\n",
      "   supported       0.60      0.31      0.41       256\n",
      "     refuted       0.39      0.70      0.50       244\n",
      "       n.e.i       0.61      0.43      0.51       223\n",
      "\n",
      "    accuracy                           0.48       723\n",
      "   macro avg       0.54      0.48      0.47       723\n",
      "weighted avg       0.53      0.48      0.47       723\n",
      "\n"
     ]
    },
    {
     "name": "stderr",
     "output_type": "stream",
     "text": [
      "Training Epoch 2: 100%|██████████| 317/317 [01:01<00:00,  5.12it/s]\n"
     ]
    },
    {
     "name": "stdout",
     "output_type": "stream",
     "text": [
      "Epoch 2, Train Loss: 0.9341\n"
     ]
    },
    {
     "name": "stderr",
     "output_type": "stream",
     "text": [
      "Validating: 100%|██████████| 46/46 [00:06<00:00,  7.03it/s]\n"
     ]
    },
    {
     "name": "stdout",
     "output_type": "stream",
     "text": [
      "Validation Loss: 0.9441, Validation Accuracy: 0.5145\n",
      "              precision    recall  f1-score   support\n",
      "\n",
      "   supported       0.52      0.64      0.58       256\n",
      "     refuted       0.45      0.25      0.32       244\n",
      "       n.e.i       0.54      0.65      0.59       223\n",
      "\n",
      "    accuracy                           0.51       723\n",
      "   macro avg       0.50      0.52      0.50       723\n",
      "weighted avg       0.50      0.51      0.49       723\n",
      "\n"
     ]
    },
    {
     "name": "stderr",
     "output_type": "stream",
     "text": [
      "Training Epoch 3: 100%|██████████| 317/317 [01:02<00:00,  5.11it/s]\n"
     ]
    },
    {
     "name": "stdout",
     "output_type": "stream",
     "text": [
      "Epoch 3, Train Loss: 0.8259\n"
     ]
    },
    {
     "name": "stderr",
     "output_type": "stream",
     "text": [
      "Validating: 100%|██████████| 46/46 [00:06<00:00,  7.17it/s]\n"
     ]
    },
    {
     "name": "stdout",
     "output_type": "stream",
     "text": [
      "Validation Loss: 0.9921, Validation Accuracy: 0.5615\n",
      "              precision    recall  f1-score   support\n",
      "\n",
      "   supported       0.56      0.69      0.62       256\n",
      "     refuted       0.51      0.33      0.40       244\n",
      "       n.e.i       0.60      0.67      0.63       223\n",
      "\n",
      "    accuracy                           0.56       723\n",
      "   macro avg       0.56      0.56      0.55       723\n",
      "weighted avg       0.55      0.56      0.55       723\n",
      "\n"
     ]
    },
    {
     "name": "stderr",
     "output_type": "stream",
     "text": [
      "Training Epoch 4: 100%|██████████| 317/317 [01:02<00:00,  5.09it/s]\n"
     ]
    },
    {
     "name": "stdout",
     "output_type": "stream",
     "text": [
      "Epoch 4, Train Loss: 0.7065\n"
     ]
    },
    {
     "name": "stderr",
     "output_type": "stream",
     "text": [
      "Validating: 100%|██████████| 46/46 [00:06<00:00,  7.08it/s]\n"
     ]
    },
    {
     "name": "stdout",
     "output_type": "stream",
     "text": [
      "Validation Loss: 1.0427, Validation Accuracy: 0.5892\n",
      "              precision    recall  f1-score   support\n",
      "\n",
      "   supported       0.55      0.76      0.64       256\n",
      "     refuted       0.61      0.34      0.43       244\n",
      "       n.e.i       0.64      0.67      0.65       223\n",
      "\n",
      "    accuracy                           0.59       723\n",
      "   macro avg       0.60      0.59      0.58       723\n",
      "weighted avg       0.60      0.59      0.57       723\n",
      "\n"
     ]
    },
    {
     "name": "stderr",
     "output_type": "stream",
     "text": [
      "Training Epoch 5: 100%|██████████| 317/317 [01:02<00:00,  5.10it/s]\n"
     ]
    },
    {
     "name": "stdout",
     "output_type": "stream",
     "text": [
      "Epoch 5, Train Loss: 0.5869\n"
     ]
    },
    {
     "name": "stderr",
     "output_type": "stream",
     "text": [
      "Validating: 100%|██████████| 46/46 [00:06<00:00,  7.11it/s]"
     ]
    },
    {
     "name": "stdout",
     "output_type": "stream",
     "text": [
      "Validation Loss: 0.9055, Validation Accuracy: 0.6362\n",
      "              precision    recall  f1-score   support\n",
      "\n",
      "   supported       0.65      0.64      0.65       256\n",
      "     refuted       0.58      0.63      0.61       244\n",
      "       n.e.i       0.69      0.63      0.66       223\n",
      "\n",
      "    accuracy                           0.64       723\n",
      "   macro avg       0.64      0.64      0.64       723\n",
      "weighted avg       0.64      0.64      0.64       723\n",
      "\n"
     ]
    },
    {
     "name": "stderr",
     "output_type": "stream",
     "text": [
      "\n"
     ]
    }
   ],
   "source": [
    "train_model(model, train_loader, dev_loader, optimizer, loss_fn, epochs=5)"
   ]
  },
  {
   "cell_type": "code",
   "execution_count": 8,
   "id": "3f2649a1",
   "metadata": {
    "execution": {
     "iopub.execute_input": "2025-01-12T16:52:26.483603Z",
     "iopub.status.busy": "2025-01-12T16:52:26.483300Z",
     "iopub.status.idle": "2025-01-12T16:52:26.488152Z",
     "shell.execute_reply": "2025-01-12T16:52:26.487430Z"
    },
    "papermill": {
     "duration": 0.135493,
     "end_time": "2025-01-12T16:52:26.489311",
     "exception": false,
     "start_time": "2025-01-12T16:52:26.353818",
     "status": "completed"
    },
    "tags": []
   },
   "outputs": [],
   "source": [
    "def predict(model, tokenizer, statement, evidence, max_len=128):\n",
    "    model.eval()\n",
    "    inputs = tokenizer(\n",
    "        text=statement,\n",
    "        text_pair=evidence,\n",
    "        max_length=max_len,\n",
    "        padding=\"max_length\",\n",
    "        truncation=True,\n",
    "        return_tensors=\"pt\"\n",
    "    )\n",
    "\n",
    "    input_ids = inputs[\"input_ids\"].to(device)\n",
    "    attention_mask = inputs[\"attention_mask\"].to(device)\n",
    "\n",
    "    with torch.no_grad():\n",
    "        outputs = model(input_ids=input_ids, attention_mask=attention_mask)\n",
    "        probs = torch.nn.functional.softmax(outputs.logits, dim=1)\n",
    "        prediction = torch.argmax(probs, dim=1).item()\n",
    "\n",
    "    return prediction, probs"
   ]
  },
  {
   "cell_type": "code",
   "execution_count": 9,
   "id": "f2b08507",
   "metadata": {
    "execution": {
     "iopub.execute_input": "2025-01-12T16:52:26.654505Z",
     "iopub.status.busy": "2025-01-12T16:52:26.654191Z",
     "iopub.status.idle": "2025-01-12T16:52:26.871289Z",
     "shell.execute_reply": "2025-01-12T16:52:26.870523Z"
    },
    "papermill": {
     "duration": 0.300672,
     "end_time": "2025-01-12T16:52:26.872827",
     "exception": false,
     "start_time": "2025-01-12T16:52:26.572155",
     "status": "completed"
    },
    "tags": []
   },
   "outputs": [],
   "source": [
    "from sklearn.metrics import (\n",
    "    classification_report, confusion_matrix, accuracy_score, \n",
    "    precision_score, recall_score, f1_score, roc_auc_score, average_precision_score\n",
    ")\n",
    "import seaborn as sns\n",
    "import matplotlib.pyplot as plt\n",
    "import numpy as np\n",
    "import torch\n",
    "\n",
    "def evaluate_model(model, data_loader):\n",
    "    model.eval()\n",
    "    all_preds = []\n",
    "    all_labels = []\n",
    "    all_probs = []  # To store probabilities for ROC-AUC and PR-AUC calculations\n",
    "\n",
    "    with torch.no_grad():\n",
    "        for batch in data_loader:\n",
    "            input_ids = batch[\"input_ids\"].to(device)\n",
    "            attention_mask = batch[\"attention_mask\"].to(device)\n",
    "            labels = batch[\"label\"].to(device)\n",
    "\n",
    "            # Model predictions\n",
    "            logits = model(input_ids=input_ids, attention_mask=attention_mask)\n",
    "            probs = torch.softmax(logits, dim=1)  # Probabilities for ROC-AUC and PR-AUC\n",
    "            preds = torch.argmax(logits, dim=1)\n",
    "\n",
    "            all_probs.extend(probs.cpu().numpy())\n",
    "            all_preds.extend(preds.cpu().numpy())\n",
    "            all_labels.extend(labels.cpu().numpy())\n",
    "\n",
    "    all_probs = np.array(all_probs)\n",
    "\n",
    "    # Classification report\n",
    "    print(\"Classification Report:\")\n",
    "    print(classification_report(all_labels, all_preds))\n",
    "\n",
    "    # Confusion matrix\n",
    "    cm = confusion_matrix(all_labels, all_preds)\n",
    "    plt.figure(figsize=(8, 6))\n",
    "    sns.heatmap(cm, annot=True, fmt=\"d\", cmap=\"Blues\", xticklabels=['Label 0', 'Label 1', 'Label 2'], yticklabels=['Label 0', 'Label 1', 'Label 2'])\n",
    "    plt.xlabel(\"Predicted\")\n",
    "    plt.ylabel(\"True\")\n",
    "    plt.title(\"Confusion Matrix\")\n",
    "    plt.show()\n",
    "\n",
    "    # Accuracy\n",
    "    accuracy = accuracy_score(all_labels, all_preds)\n",
    "    print(f\"Accuracy: {accuracy:.4f}\")\n",
    "\n",
    "    # Precision, Recall, and F1-Score\n",
    "    precision = precision_score(all_labels, all_preds, average=\"weighted\")\n",
    "    recall = recall_score(all_labels, all_preds, average=\"weighted\")\n",
    "    f1_macro = f1_score(all_labels, all_preds, average='macro')\n",
    "    f1_micro = f1_score(all_labels, all_preds, average='micro')\n",
    "\n",
    "    print(f\"Precision: {precision:.4f}\")\n",
    "    print(f\"Recall: {recall:.4f}\")\n",
    "    print(f\"F1-Score (Macro): {f1_macro:.4f}\")\n",
    "    print(f\"F1-Score (Micro): {f1_micro:.4f}\")\n",
    "\n",
    "    # ROC-AUC (for multi-class)\n",
    "    try:\n",
    "        roc_auc = roc_auc_score(all_labels, all_probs, multi_class='ovr')\n",
    "        print(f\"ROC-AUC: {roc_auc:.4f}\")\n",
    "    except ValueError:\n",
    "        print(\"ROC-AUC could not be calculated due to incompatible inputs.\")\n",
    "\n",
    "    # PR-AUC (for multi-class, using average_precision_score)\n",
    "    try:\n",
    "        pr_auc = average_precision_score(all_labels, all_probs, average='macro')\n",
    "        print(f\"PR-AUC: {pr_auc:.4f}\")\n",
    "    except ValueError:\n",
    "        print(\"PR-AUC could not be calculated due to incompatible inputs.\")\n",
    "\n",
    "    return all_preds, all_labels\n"
   ]
  },
  {
   "cell_type": "code",
   "execution_count": 10,
   "id": "1a2d6aab",
   "metadata": {
    "execution": {
     "iopub.execute_input": "2025-01-12T16:52:27.038360Z",
     "iopub.status.busy": "2025-01-12T16:52:27.037841Z",
     "iopub.status.idle": "2025-01-12T16:52:27.461014Z",
     "shell.execute_reply": "2025-01-12T16:52:27.460320Z"
    },
    "papermill": {
     "duration": 0.507122,
     "end_time": "2025-01-12T16:52:27.462684",
     "exception": false,
     "start_time": "2025-01-12T16:52:26.955562",
     "status": "completed"
    },
    "tags": []
   },
   "outputs": [],
   "source": [
    "# Load and preprocess dev data\n",
    "test = pd.read_csv('/kaggle/input/vifactcheck/test_data.csv')\n",
    "test = test.reset_index(drop=True)\n",
    "expected_columns = [\"Statement\", \"Evidence_List\", \"labels\"]\n",
    "missing_columns = [col for col in expected_columns if col not in test.columns]\n",
    "if missing_columns:\n",
    "    raise ValueError(f\"Missing columns in test data: {missing_columns}\")\n",
    "\n",
    "test_dataset = FactCheckDataset(test, tokenizer, max_len=128)\n",
    "test_loader = DataLoader(test_dataset, batch_size=16)"
   ]
  },
  {
   "cell_type": "code",
   "execution_count": 11,
   "id": "116ab607",
   "metadata": {
    "execution": {
     "iopub.execute_input": "2025-01-12T16:52:27.629843Z",
     "iopub.status.busy": "2025-01-12T16:52:27.629559Z",
     "iopub.status.idle": "2025-01-12T16:52:41.107702Z",
     "shell.execute_reply": "2025-01-12T16:52:41.106681Z"
    },
    "papermill": {
     "duration": 13.562025,
     "end_time": "2025-01-12T16:52:41.109303",
     "exception": false,
     "start_time": "2025-01-12T16:52:27.547278",
     "status": "completed"
    },
    "tags": []
   },
   "outputs": [
    {
     "name": "stdout",
     "output_type": "stream",
     "text": [
      "Classification Report:\n",
      "              precision    recall  f1-score   support\n",
      "\n",
      "           0       0.62      0.64      0.63       508\n",
      "           1       0.54      0.57      0.55       468\n",
      "           2       0.71      0.63      0.67       471\n",
      "\n",
      "    accuracy                           0.61      1447\n",
      "   macro avg       0.62      0.61      0.62      1447\n",
      "weighted avg       0.62      0.61      0.62      1447\n",
      "\n"
     ]
    },
    {
     "data": {
      "image/png": "[encoded data removed]",
      "text/plain": [
       "<Figure size 800x600 with 2 Axes>"
      ]
     },
     "metadata": {},
     "output_type": "display_data"
    },
    {
     "name": "stdout",
     "output_type": "stream",
     "text": [
      "Accuracy: 0.6144\n",
      "Precision: 0.6195\n",
      "Recall: 0.6144\n",
      "F1-Score (Macro): 0.6154\n",
      "F1-Score (Micro): 0.6144\n",
      "ROC-AUC: 0.8059\n",
      "PR-AUC could not be calculated due to incompatible inputs.\n"
     ]
    }
   ],
   "source": [
    "# Evaluate the model\n",
    "test_preds, test_labels = evaluate_model(model, test_loader)"
   ]
  },
  {
   "cell_type": "code",
   "execution_count": 12,
   "id": "8d591253",
   "metadata": {
    "execution": {
     "iopub.execute_input": "2025-01-12T16:52:41.289049Z",
     "iopub.status.busy": "2025-01-12T16:52:41.288731Z",
     "iopub.status.idle": "2025-01-12T16:52:41.296413Z",
     "shell.execute_reply": "2025-01-12T16:52:41.295157Z"
    },
    "papermill": {
     "duration": 0.093611,
     "end_time": "2025-01-12T16:52:41.297757",
     "exception": false,
     "start_time": "2025-01-12T16:52:41.204146",
     "status": "completed"
    },
    "tags": []
   },
   "outputs": [
    {
     "name": "stdout",
     "output_type": "stream",
     "text": [
      "Statement: Bộ xương bản sao được đưa đến Lodon bằng cách nghép thành con hoàn chỉnh rồi vận chuyển đến.\n",
      "Evidence: đại diện Bảo tàng Lịch sử tự nhiên London cho biết bộ xương bản sao đã được đưa đến London trong 32 thùng riêng biệt, nghĩa là \"mỗi mảnh phải được ghép lại với nhau như một trò chơi ghép hình khổng lồ\".\n",
      "True Label: 1, Predicted Label: 1\n",
      "--------------------------------------------------\n",
      "Statement: Phần vỏ bánh được làm rất công phu, từ giai đoạn xay gạo đến cuốn bánh hết tổng 4 tiếng đồng hồ.\n",
      "Evidence: Gạo tẻ ngon được xay nhuyễn bằng cối đá từ xưa, sau đó loại bỏ tạp chất bằng cách lọc qua nước để lấy bột nõn. Đây là công thức từ thời mẹ ông để lại và vẫn được ông duy trì những năm qua. Khách đến gọi mới được phục vụ. Bột tráng bánh được múc theo từng muôi rưới lên mặt nồi hấp, tráng đều rồi đậy vung. Hấp khoảng một phút vỏ bánh vừa chín tới, có độ dai nhẹ. Ông Chính dùng que tre dẹt cuốn lấy vỏ bánh đặt lên đĩa, cho phần nhân đã được xào chín vào rồi cẩn thận cuộn tròn sao cho vỏ không bị rách, cắt đôi và rắc thêm chút hành khô.\n",
      "True Label: 2, Predicted Label: 1\n",
      "--------------------------------------------------\n",
      "Statement: Đối tượng cố gắng bỏ chạy sau khi lực lượng công an đón dừng xe để kiểm tra.\n",
      "Evidence: Khi lực lượng công an đón dừng xe để kiểm tra, Thành đã tăng tốc độ để bỏ chạy và va chạm với một xe ô tô khác đi ngược chiều\n",
      "True Label: 0, Predicted Label: 0\n",
      "--------------------------------------------------\n",
      "Statement: Vì lượng mưa khổng lồ do cơn bão tạo ra đã dẫn đến nhiều vụ sạt lở và ngập lụt, miền nam Mozambique nhận lượng mưa cao hơn gấp đôi hàng năm, và dự kiến nếu bão cứ tiếp tục độ bổ thì lượng mưa tại đây sẽ cao nhất trong lịch sử từ trước đến giờ.\n",
      "Evidence: Cơn bão trút lượng mưa khổng lồ xuống đất liền, dẫn tới nhiều vụ sạt lở và ngập lụt Miền nam Mozambique nhận lượng mưa cao hơn gấp đôi hàng năm\n",
      "True Label: 2, Predicted Label: 2\n",
      "--------------------------------------------------\n",
      "Statement: Tại một địa điểm trên địa bàn huyện Củ Chi, TPHCM, Công an đã phát hiện hai nghi phạm có liên quan đến vụ việc là N. được xác định là mẹ ruột bé Th. và B. là người đàn ông xăm trổ xuất hiện trong video clip được lan truyền những ngày gần đây với nội dung bạo hành.\n",
      "Evidence: N. được xác định là mẹ ruột của bé Th. B. chính là người đàn ông xăm trổ trong các clip lan truyền trên mạng xã hội về nội dung bạo hành Công an đã phát hiện B. và N. tại một địa điểm trên địa bàn huyện Củ Chi, TPHCM.\n",
      "True Label: 0, Predicted Label: 0\n",
      "--------------------------------------------------\n"
     ]
    }
   ],
   "source": [
    "def visualize_predictions(data, predictions, labels, n=5):\n",
    "    for i in range(n):\n",
    "        print(f\"Statement: {data.iloc[i]['Statement']}\")\n",
    "        print(f\"Evidence: {data.iloc[i]['Evidence']}\")\n",
    "        print(f\"True Label: {labels[i]}, Predicted Label: {predictions[i]}\")\n",
    "        print(\"-\" * 50)\n",
    "\n",
    "visualize_predictions(test, test_preds, test_labels)"
   ]
  }
 ],
 "metadata": {
  "kaggle": {
   "accelerator": "gpu",
   "dataSources": [
    {
     "datasetId": 6329698,
     "sourceId": 10236357,
     "sourceType": "datasetVersion"
    }
   ],
   "dockerImageVersionId": 30823,
   "isGpuEnabled": true,
   "isInternetEnabled": true,
   "language": "python",
   "sourceType": "notebook"
  },
  "kernelspec": {
   "display_name": "Python 3",
   "language": "python",
   "name": "python3"
  },
  "language_info": {
   "codemirror_mode": {
    "name": "ipython",
    "version": 3
   },
   "file_extension": ".py",
   "mimetype": "text/x-python",
   "name": "python",
   "nbconvert_exporter": "python",
   "pygments_lexer": "ipython3",
   "version": "3.10.12"
  },
  "papermill": {
   "default_parameters": {},
   "duration": 379.86826,
   "end_time": "2025-01-12T16:52:43.706084",
   "environment_variables": {},
   "exception": null,
   "input_path": "__notebook__.ipynb",
   "output_path": "__notebook__.ipynb",
   "parameters": {},
   "start_time": "2025-01-12T16:46:23.837824",
   "version": "2.6.0"
  },
  "widgets": {
   "application/vnd.jupyter.widget-state+json": {
    "state": {
     "00e398a8e2df4bc2b01638c9a8a3943b": {
      "model_module": "@jupyter-widgets/base",
      "model_module_version": "2.0.0",
      "model_name": "LayoutModel",
      "state": {
       "_model_module": "@jupyter-widgets/base",
       "_model_module_version": "2.0.0",
       "_model_name": "LayoutModel",
       "_view_count": null,
       "_view_module": "@jupyter-widgets/base",
       "_view_module_version": "2.0.0",
       "_view_name": "LayoutView",
       "align_content": null,
       "align_items": null,
       "align_self": null,
       "border_bottom": null,
       "border_left": null,
       "border_right": null,
       "border_top": null,
       "bottom": null,
       "display": null,
       "flex": null,
       "flex_flow": null,
       "grid_area": null,
       "grid_auto_columns": null,
       "grid_auto_flow": null,
       "grid_auto_rows": null,
       "grid_column": null,
       "grid_gap": null,
       "grid_row": null,
       "grid_template_areas": null,
       "grid_template_columns": null,
       "grid_template_rows": null,
       "height": null,
       "justify_content": null,
       "justify_items": null,
       "left": null,
       "margin": null,
       "max_height": null,
       "max_width": null,
       "min_height": null,
       "min_width": null,
       "object_fit": null,
       "object_position": null,
       "order": null,
       "overflow": null,
       "padding": null,
       "right": null,
       "top": null,
       "visibility": null,
       "width": null
      }
     },
     "0842f6a92cea4b4eac2b9ee88ee8c2dc": {
      "model_module": "@jupyter-widgets/base",
      "model_module_version": "2.0.0",
      "model_name": "LayoutModel",
      "state": {
       "_model_module": "@jupyter-widgets/base",
       "_model_module_version": "2.0.0",
       "_model_name": "LayoutModel",
       "_view_count": null,
       "_view_module": "@jupyter-widgets/base",
       "_view_module_version": "2.0.0",
       "_view_name": "LayoutView",
       "align_content": null,
       "align_items": null,
       "align_self": null,
       "border_bottom": null,
       "border_left": null,
       "border_right": null,
       "border_top": null,
       "bottom": null,
       "display": null,
       "flex": null,
       "flex_flow": null,
       "grid_area": null,
       "grid_auto_columns": null,
       "grid_auto_flow": null,
       "grid_auto_rows": null,
       "grid_column": null,
       "grid_gap": null,
       "grid_row": null,
       "grid_template_areas": null,
       "grid_template_columns": null,
       "grid_template_rows": null,
       "height": null,
       "justify_content": null,
       "justify_items": null,
       "left": null,
       "margin": null,
       "max_height": null,
       "max_width": null,
       "min_height": null,
       "min_width": null,
       "object_fit": null,
       "object_position": null,
       "order": null,
       "overflow": null,
       "padding": null,
       "right": null,
       "top": null,
       "visibility": null,
       "width": null
      }
     },
     "08c54362a08c4e8782f3ed509c743c6a": {
      "model_module": "@jupyter-widgets/controls",
      "model_module_version": "2.0.0",
      "model_name": "HTMLStyleModel",
      "state": {
       "_model_module": "@jupyter-widgets/controls",
       "_model_module_version": "2.0.0",
       "_model_name": "HTMLStyleModel",
       "_view_count": null,
       "_view_module": "@jupyter-widgets/base",
       "_view_module_version": "2.0.0",
       "_view_name": "StyleView",
       "background": null,
       "description_width": "",
       "font_size": null,
       "text_color": null
      }
     },
     "117dfe4b64aa48799b011e61ef3046e4": {
      "model_module": "@jupyter-widgets/controls",
      "model_module_version": "2.0.0",
      "model_name": "FloatProgressModel",
      "state": {
       "_dom_classes": [],
       "_model_module": "@jupyter-widgets/controls",
       "_model_module_version": "2.0.0",
       "_model_name": "FloatProgressModel",
       "_view_count": null,
       "_view_module": "@jupyter-widgets/controls",
       "_view_module_version": "2.0.0",
       "_view_name": "ProgressView",
       "bar_style": "success",
       "description": "",
       "description_allow_html": false,
       "layout": "IPY_MODEL_f2e3a14008f345b3b59c541757910c32",
       "max": 1403.0,
       "min": 0.0,
       "orientation": "horizontal",
       "style": "IPY_MODEL_7030ad82ab144a7c9348a0393dcb042c",
       "tabbable": null,
       "tooltip": null,
       "value": 1403.0
      }
     },
     "174a18256b824f1a99be575a51d95100": {
      "model_module": "@jupyter-widgets/base",
      "model_module_version": "2.0.0",
      "model_name": "LayoutModel",
      "state": {
       "_model_module": "@jupyter-widgets/base",
       "_model_module_version": "2.0.0",
       "_model_name": "LayoutModel",
       "_view_count": null,
       "_view_module": "@jupyter-widgets/base",
       "_view_module_version": "2.0.0",
       "_view_name": "LayoutView",
       "align_content": null,
       "align_items": null,
       "align_self": null,
       "border_bottom": null,
       "border_left": null,
       "border_right": null,
       "border_top": null,
       "bottom": null,
       "display": null,
       "flex": null,
       "flex_flow": null,
       "grid_area": null,
       "grid_auto_columns": null,
       "grid_auto_flow": null,
       "grid_auto_rows": null,
       "grid_column": null,
       "grid_gap": null,
       "grid_row": null,
       "grid_template_areas": null,
       "grid_template_columns": null,
       "grid_template_rows": null,
       "height": null,
       "justify_content": null,
       "justify_items": null,
       "left": null,
       "margin": null,
       "max_height": null,
       "max_width": null,
       "min_height": null,
       "min_width": null,
       "object_fit": null,
       "object_position": null,
       "order": null,
       "overflow": null,
       "padding": null,
       "right": null,
       "top": null,
       "visibility": null,
       "width": null
      }
     },
     "2540b9a6d8b540ef929acdf64c0fcd3f": {
      "model_module": "@jupyter-widgets/controls",
      "model_module_version": "2.0.0",
      "model_name": "HTMLModel",
      "state": {
       "_dom_classes": [],
       "_model_module": "@jupyter-widgets/controls",
       "_model_module_version": "2.0.0",
       "_model_name": "HTMLModel",
       "_view_count": null,
       "_view_module": "@jupyter-widgets/controls",
       "_view_module_version": "2.0.0",
       "_view_name": "HTMLView",
       "description": "",
       "description_allow_html": false,
       "layout": "IPY_MODEL_62e0ee429e594c8d92649d32386ce800",
       "placeholder": "​",
       "style": "IPY_MODEL_7ebc489aae2c4227aae21b5dc5686318",
       "tabbable": null,
       "tooltip": null,
       "value": "pytorch_model.bin: 100%"
      }
     },
     "3e974e1692d544448fc1f2b5a752eda4": {
      "model_module": "@jupyter-widgets/controls",
      "model_module_version": "2.0.0",
      "model_name": "FloatProgressModel",
      "state": {
       "_dom_classes": [],
       "_model_module": "@jupyter-widgets/controls",
       "_model_module_version": "2.0.0",
       "_model_name": "FloatProgressModel",
       "_view_count": null,
       "_view_module": "@jupyter-widgets/controls",
       "_view_module_version": "2.0.0",
       "_view_name": "ProgressView",
       "bar_style": "success",
       "description": "",
       "description_allow_html": false,
       "layout": "IPY_MODEL_00e398a8e2df4bc2b01638c9a8a3943b",
       "max": 254703.0,
       "min": 0.0,
       "orientation": "horizontal",
       "style": "IPY_MODEL_49192071be744b97a657b6c7afc87991",
       "tabbable": null,
       "tooltip": null,
       "value": 254703.0
      }
     },
     "47d08bd25c1e424eb9fd1eab2fecdbd5": {
      "model_module": "@jupyter-widgets/base",
      "model_module_version": "2.0.0",
      "model_name": "LayoutModel",
      "state": {
       "_model_module": "@jupyter-widgets/base",
       "_model_module_version": "2.0.0",
       "_model_name": "LayoutModel",
       "_view_count": null,
       "_view_module": "@jupyter-widgets/base",
       "_view_module_version": "2.0.0",
       "_view_name": "LayoutView",
       "align_content": null,
       "align_items": null,
       "align_self": null,
       "border_bottom": null,
       "border_left": null,
       "border_right": null,
       "border_top": null,
       "bottom": null,
       "display": null,
       "flex": null,
       "flex_flow": null,
       "grid_area": null,
       "grid_auto_columns": null,
       "grid_auto_flow": null,
       "grid_auto_rows": null,
       "grid_column": null,
       "grid_gap": null,
       "grid_row": null,
       "grid_template_areas": null,
       "grid_template_columns": null,
       "grid_template_rows": null,
       "height": null,
       "justify_content": null,
       "justify_items": null,
       "left": null,
       "margin": null,
       "max_height": null,
       "max_width": null,
       "min_height": null,
       "min_width": null,
       "object_fit": null,
       "object_position": null,
       "order": null,
       "overflow": null,
       "padding": null,
       "right": null,
       "top": null,
       "visibility": null,
       "width": null
      }
     },
     "49192071be744b97a657b6c7afc87991": {
      "model_module": "@jupyter-widgets/controls",
      "model_module_version": "2.0.0",
      "model_name": "ProgressStyleModel",
      "state": {
       "_model_module": "@jupyter-widgets/controls",
       "_model_module_version": "2.0.0",
       "_model_name": "ProgressStyleModel",
       "_view_count": null,
       "_view_module": "@jupyter-widgets/base",
       "_view_module_version": "2.0.0",
       "_view_name": "StyleView",
       "bar_color": null,
       "description_width": ""
      }
     },
     "554bc0140cd54e6d8a00029d8595b3ca": {
      "model_module": "@jupyter-widgets/base",
      "model_module_version": "2.0.0",
      "model_name": "LayoutModel",
      "state": {
       "_model_module": "@jupyter-widgets/base",
       "_model_module_version": "2.0.0",
       "_model_name": "LayoutModel",
       "_view_count": null,
       "_view_module": "@jupyter-widgets/base",
       "_view_module_version": "2.0.0",
       "_view_name": "LayoutView",
       "align_content": null,
       "align_items": null,
       "align_self": null,
       "border_bottom": null,
       "border_left": null,
       "border_right": null,
       "border_top": null,
       "bottom": null,
       "display": null,
       "flex": null,
       "flex_flow": null,
       "grid_area": null,
       "grid_auto_columns": null,
       "grid_auto_flow": null,
       "grid_auto_rows": null,
       "grid_column": null,
       "grid_gap": null,
       "grid_row": null,
       "grid_template_areas": null,
       "grid_template_columns": null,
       "grid_template_rows": null,
       "height": null,
       "justify_content": null,
       "justify_items": null,
       "left": null,
       "margin": null,
       "max_height": null,
       "max_width": null,
       "min_height": null,
       "min_width": null,
       "object_fit": null,
       "object_position": null,
       "order": null,
       "overflow": null,
       "padding": null,
       "right": null,
       "top": null,
       "visibility": null,
       "width": null
      }
     },
     "5ee4b4d62918498d89d9eb93cb957a10": {
      "model_module": "@jupyter-widgets/controls",
      "model_module_version": "2.0.0",
      "model_name": "HBoxModel",
      "state": {
       "_dom_classes": [],
       "_model_module": "@jupyter-widgets/controls",
       "_model_module_version": "2.0.0",
       "_model_name": "HBoxModel",
       "_view_count": null,
       "_view_module": "@jupyter-widgets/controls",
       "_view_module_version": "2.0.0",
       "_view_name": "HBoxView",
       "box_style": "",
       "children": [
        "IPY_MODEL_e2d5f6dfb0db4d838770c0c80cdf3f89",
        "IPY_MODEL_3e974e1692d544448fc1f2b5a752eda4",
        "IPY_MODEL_c77009fdd04041bbbb5642071bc26b8d"
       ],
       "layout": "IPY_MODEL_554bc0140cd54e6d8a00029d8595b3ca",
       "tabbable": null,
       "tooltip": null
      }
     },
     "62e0ee429e594c8d92649d32386ce800": {
      "model_module": "@jupyter-widgets/base",
      "model_module_version": "2.0.0",
      "model_name": "LayoutModel",
      "state": {
       "_model_module": "@jupyter-widgets/base",
       "_model_module_version": "2.0.0",
       "_model_name": "LayoutModel",
       "_view_count": null,
       "_view_module": "@jupyter-widgets/base",
       "_view_module_version": "2.0.0",
       "_view_name": "LayoutView",
       "align_content": null,
       "align_items": null,
       "align_self": null,
       "border_bottom": null,
       "border_left": null,
       "border_right": null,
       "border_top": null,
       "bottom": null,
       "display": null,
       "flex": null,
       "flex_flow": null,
       "grid_area": null,
       "grid_auto_columns": null,
       "grid_auto_flow": null,
       "grid_auto_rows": null,
       "grid_column": null,
       "grid_gap": null,
       "grid_row": null,
       "grid_template_areas": null,
       "grid_template_columns": null,
       "grid_template_rows": null,
       "height": null,
       "justify_content": null,
       "justify_items": null,
       "left": null,
       "margin": null,
       "max_height": null,
       "max_width": null,
       "min_height": null,
       "min_width": null,
       "object_fit": null,
       "object_position": null,
       "order": null,
       "overflow": null,
       "padding": null,
       "right": null,
       "top": null,
       "visibility": null,
       "width": null
      }
     },
     "67222340ad6a416da25e354480a43251": {
      "model_module": "@jupyter-widgets/base",
      "model_module_version": "2.0.0",
      "model_name": "LayoutModel",
      "state": {
       "_model_module": "@jupyter-widgets/base",
       "_model_module_version": "2.0.0",
       "_model_name": "LayoutModel",
       "_view_count": null,
       "_view_module": "@jupyter-widgets/base",
       "_view_module_version": "2.0.0",
       "_view_name": "LayoutView",
       "align_content": null,
       "align_items": null,
       "align_self": null,
       "border_bottom": null,
       "border_left": null,
       "border_right": null,
       "border_top": null,
       "bottom": null,
       "display": null,
       "flex": null,
       "flex_flow": null,
       "grid_area": null,
       "grid_auto_columns": null,
       "grid_auto_flow": null,
       "grid_auto_rows": null,
       "grid_column": null,
       "grid_gap": null,
       "grid_row": null,
       "grid_template_areas": null,
       "grid_template_columns": null,
       "grid_template_rows": null,
       "height": null,
       "justify_content": null,
       "justify_items": null,
       "left": null,
       "margin": null,
       "max_height": null,
       "max_width": null,
       "min_height": null,
       "min_width": null,
       "object_fit": null,
       "object_position": null,
       "order": null,
       "overflow": null,
       "padding": null,
       "right": null,
       "top": null,
       "visibility": null,
       "width": null
      }
     },
     "7030ad82ab144a7c9348a0393dcb042c": {
      "model_module": "@jupyter-widgets/controls",
      "model_module_version": "2.0.0",
      "model_name": "ProgressStyleModel",
      "state": {
       "_model_module": "@jupyter-widgets/controls",
       "_model_module_version": "2.0.0",
       "_model_name": "ProgressStyleModel",
       "_view_count": null,
       "_view_module": "@jupyter-widgets/base",
       "_view_module_version": "2.0.0",
       "_view_name": "StyleView",
       "bar_color": null,
       "description_width": ""
      }
     },
     "73493f069fc94342a2265a4d3799632e": {
      "model_module": "@jupyter-widgets/controls",
      "model_module_version": "2.0.0",
      "model_name": "HTMLModel",
      "state": {
       "_dom_classes": [],
       "_model_module": "@jupyter-widgets/controls",
       "_model_module_version": "2.0.0",
       "_model_name": "HTMLModel",
       "_view_count": null,
       "_view_module": "@jupyter-widgets/controls",
       "_view_module_version": "2.0.0",
       "_view_name": "HTMLView",
       "description": "",
       "description_allow_html": false,
       "layout": "IPY_MODEL_67222340ad6a416da25e354480a43251",
       "placeholder": "​",
       "style": "IPY_MODEL_08c54362a08c4e8782f3ed509c743c6a",
       "tabbable": null,
       "tooltip": null,
       "value": " 1.40k/1.40k [00:00&lt;00:00, 131kB/s]"
      }
     },
     "76747e6fc4c4480db56f86cb1d0e6faa": {
      "model_module": "@jupyter-widgets/controls",
      "model_module_version": "2.0.0",
      "model_name": "HTMLStyleModel",
      "state": {
       "_model_module": "@jupyter-widgets/controls",
       "_model_module_version": "2.0.0",
       "_model_name": "HTMLStyleModel",
       "_view_count": null,
       "_view_module": "@jupyter-widgets/base",
       "_view_module_version": "2.0.0",
       "_view_name": "StyleView",
       "background": null,
       "description_width": "",
       "font_size": null,
       "text_color": null
      }
     },
     "7ae64379099647b694c22a7816833174": {
      "model_module": "@jupyter-widgets/controls",
      "model_module_version": "2.0.0",
      "model_name": "HTMLModel",
      "state": {
       "_dom_classes": [],
       "_model_module": "@jupyter-widgets/controls",
       "_model_module_version": "2.0.0",
       "_model_name": "HTMLModel",
       "_view_count": null,
       "_view_module": "@jupyter-widgets/controls",
       "_view_module_version": "2.0.0",
       "_view_name": "HTMLView",
       "description": "",
       "description_allow_html": false,
       "layout": "IPY_MODEL_174a18256b824f1a99be575a51d95100",
       "placeholder": "​",
       "style": "IPY_MODEL_ffd34b2dab0e45afaf62fecfeb7da56f",
       "tabbable": null,
       "tooltip": null,
       "value": "config.json: 100%"
      }
     },
     "7ebc489aae2c4227aae21b5dc5686318": {
      "model_module": "@jupyter-widgets/controls",
      "model_module_version": "2.0.0",
      "model_name": "HTMLStyleModel",
      "state": {
       "_model_module": "@jupyter-widgets/controls",
       "_model_module_version": "2.0.0",
       "_model_name": "HTMLStyleModel",
       "_view_count": null,
       "_view_module": "@jupyter-widgets/base",
       "_view_module_version": "2.0.0",
       "_view_name": "StyleView",
       "background": null,
       "description_width": "",
       "font_size": null,
       "text_color": null
      }
     },
     "822ad98aa04f4e328acb5ac31517d272": {
      "model_module": "@jupyter-widgets/controls",
      "model_module_version": "2.0.0",
      "model_name": "HTMLStyleModel",
      "state": {
       "_model_module": "@jupyter-widgets/controls",
       "_model_module_version": "2.0.0",
       "_model_name": "HTMLStyleModel",
       "_view_count": null,
       "_view_module": "@jupyter-widgets/base",
       "_view_module_version": "2.0.0",
       "_view_name": "StyleView",
       "background": null,
       "description_width": "",
       "font_size": null,
       "text_color": null
      }
     },
     "8c6529a5e541460589f8eddd31570b23": {
      "model_module": "@jupyter-widgets/controls",
      "model_module_version": "2.0.0",
      "model_name": "HTMLStyleModel",
      "state": {
       "_model_module": "@jupyter-widgets/controls",
       "_model_module_version": "2.0.0",
       "_model_name": "HTMLStyleModel",
       "_view_count": null,
       "_view_module": "@jupyter-widgets/base",
       "_view_module_version": "2.0.0",
       "_view_name": "StyleView",
       "background": null,
       "description_width": "",
       "font_size": null,
       "text_color": null
      }
     },
     "99cc822bdccd4490a7d09bccd872962d": {
      "model_module": "@jupyter-widgets/controls",
      "model_module_version": "2.0.0",
      "model_name": "ProgressStyleModel",
      "state": {
       "_model_module": "@jupyter-widgets/controls",
       "_model_module_version": "2.0.0",
       "_model_name": "ProgressStyleModel",
       "_view_count": null,
       "_view_module": "@jupyter-widgets/base",
       "_view_module_version": "2.0.0",
       "_view_name": "StyleView",
       "bar_color": null,
       "description_width": ""
      }
     },
     "9d60f5151a1a4a4ca708f822c623ff54": {
      "model_module": "@jupyter-widgets/base",
      "model_module_version": "2.0.0",
      "model_name": "LayoutModel",
      "state": {
       "_model_module": "@jupyter-widgets/base",
       "_model_module_version": "2.0.0",
       "_model_name": "LayoutModel",
       "_view_count": null,
       "_view_module": "@jupyter-widgets/base",
       "_view_module_version": "2.0.0",
       "_view_name": "LayoutView",
       "align_content": null,
       "align_items": null,
       "align_self": null,
       "border_bottom": null,
       "border_left": null,
       "border_right": null,
       "border_top": null,
       "bottom": null,
       "display": null,
       "flex": null,
       "flex_flow": null,
       "grid_area": null,
       "grid_auto_columns": null,
       "grid_auto_flow": null,
       "grid_auto_rows": null,
       "grid_column": null,
       "grid_gap": null,
       "grid_row": null,
       "grid_template_areas": null,
       "grid_template_columns": null,
       "grid_template_rows": null,
       "height": null,
       "justify_content": null,
       "justify_items": null,
       "left": null,
       "margin": null,
       "max_height": null,
       "max_width": null,
       "min_height": null,
       "min_width": null,
       "object_fit": null,
       "object_position": null,
       "order": null,
       "overflow": null,
       "padding": null,
       "right": null,
       "top": null,
       "visibility": null,
       "width": null
      }
     },
     "a17a91b141cc43f9bce9c641e6f8b290": {
      "model_module": "@jupyter-widgets/controls",
      "model_module_version": "2.0.0",
      "model_name": "HTMLModel",
      "state": {
       "_dom_classes": [],
       "_model_module": "@jupyter-widgets/controls",
       "_model_module_version": "2.0.0",
       "_model_name": "HTMLModel",
       "_view_count": null,
       "_view_module": "@jupyter-widgets/controls",
       "_view_module_version": "2.0.0",
       "_view_name": "HTMLView",
       "description": "",
       "description_allow_html": false,
       "layout": "IPY_MODEL_b55eeef6c9c04d50b7239f48f34d363a",
       "placeholder": "​",
       "style": "IPY_MODEL_822ad98aa04f4e328acb5ac31517d272",
       "tabbable": null,
       "tooltip": null,
       "value": " 581M/581M [00:06&lt;00:00, 82.1MB/s]"
      }
     },
     "b55eeef6c9c04d50b7239f48f34d363a": {
      "model_module": "@jupyter-widgets/base",
      "model_module_version": "2.0.0",
      "model_name": "LayoutModel",
      "state": {
       "_model_module": "@jupyter-widgets/base",
       "_model_module_version": "2.0.0",
       "_model_name": "LayoutModel",
       "_view_count": null,
       "_view_module": "@jupyter-widgets/base",
       "_view_module_version": "2.0.0",
       "_view_name": "LayoutView",
       "align_content": null,
       "align_items": null,
       "align_self": null,
       "border_bottom": null,
       "border_left": null,
       "border_right": null,
       "border_top": null,
       "bottom": null,
       "display": null,
       "flex": null,
       "flex_flow": null,
       "grid_area": null,
       "grid_auto_columns": null,
       "grid_auto_flow": null,
       "grid_auto_rows": null,
       "grid_column": null,
       "grid_gap": null,
       "grid_row": null,
       "grid_template_areas": null,
       "grid_template_columns": null,
       "grid_template_rows": null,
       "height": null,
       "justify_content": null,
       "justify_items": null,
       "left": null,
       "margin": null,
       "max_height": null,
       "max_width": null,
       "min_height": null,
       "min_width": null,
       "object_fit": null,
       "object_position": null,
       "order": null,
       "overflow": null,
       "padding": null,
       "right": null,
       "top": null,
       "visibility": null,
       "width": null
      }
     },
     "c77009fdd04041bbbb5642071bc26b8d": {
      "model_module": "@jupyter-widgets/controls",
      "model_module_version": "2.0.0",
      "model_name": "HTMLModel",
      "state": {
       "_dom_classes": [],
       "_model_module": "@jupyter-widgets/controls",
       "_model_module_version": "2.0.0",
       "_model_name": "HTMLModel",
       "_view_count": null,
       "_view_module": "@jupyter-widgets/controls",
       "_view_module_version": "2.0.0",
       "_view_name": "HTMLView",
       "description": "",
       "description_allow_html": false,
       "layout": "IPY_MODEL_0842f6a92cea4b4eac2b9ee88ee8c2dc",
       "placeholder": "​",
       "style": "IPY_MODEL_76747e6fc4c4480db56f86cb1d0e6faa",
       "tabbable": null,
       "tooltip": null,
       "value": " 255k/255k [00:00&lt;00:00, 6.72MB/s]"
      }
     },
     "e2d5f6dfb0db4d838770c0c80cdf3f89": {
      "model_module": "@jupyter-widgets/controls",
      "model_module_version": "2.0.0",
      "model_name": "HTMLModel",
      "state": {
       "_dom_classes": [],
       "_model_module": "@jupyter-widgets/controls",
       "_model_module_version": "2.0.0",
       "_model_name": "HTMLModel",
       "_view_count": null,
       "_view_module": "@jupyter-widgets/controls",
       "_view_module_version": "2.0.0",
       "_view_name": "HTMLView",
       "description": "",
       "description_allow_html": false,
       "layout": "IPY_MODEL_fad1b47e21834f27b05936efb16db762",
       "placeholder": "​",
       "style": "IPY_MODEL_8c6529a5e541460589f8eddd31570b23",
       "tabbable": null,
       "tooltip": null,
       "value": "vocab.txt: 100%"
      }
     },
     "e2fec43de5df4a9d8f183a1d401b1c2f": {
      "model_module": "@jupyter-widgets/base",
      "model_module_version": "2.0.0",
      "model_name": "LayoutModel",
      "state": {
       "_model_module": "@jupyter-widgets/base",
       "_model_module_version": "2.0.0",
       "_model_name": "LayoutModel",
       "_view_count": null,
       "_view_module": "@jupyter-widgets/base",
       "_view_module_version": "2.0.0",
       "_view_name": "LayoutView",
       "align_content": null,
       "align_items": null,
       "align_self": null,
       "border_bottom": null,
       "border_left": null,
       "border_right": null,
       "border_top": null,
       "bottom": null,
       "display": null,
       "flex": null,
       "flex_flow": null,
       "grid_area": null,
       "grid_auto_columns": null,
       "grid_auto_flow": null,
       "grid_auto_rows": null,
       "grid_column": null,
       "grid_gap": null,
       "grid_row": null,
       "grid_template_areas": null,
       "grid_template_columns": null,
       "grid_template_rows": null,
       "height": null,
       "justify_content": null,
       "justify_items": null,
       "left": null,
       "margin": null,
       "max_height": null,
       "max_width": null,
       "min_height": null,
       "min_width": null,
       "object_fit": null,
       "object_position": null,
       "order": null,
       "overflow": null,
       "padding": null,
       "right": null,
       "top": null,
       "visibility": null,
       "width": null
      }
     },
     "e71a105c7b2547cc9d62be04893bcd9a": {
      "model_module": "@jupyter-widgets/controls",
      "model_module_version": "2.0.0",
      "model_name": "HBoxModel",
      "state": {
       "_dom_classes": [],
       "_model_module": "@jupyter-widgets/controls",
       "_model_module_version": "2.0.0",
       "_model_name": "HBoxModel",
       "_view_count": null,
       "_view_module": "@jupyter-widgets/controls",
       "_view_module_version": "2.0.0",
       "_view_name": "HBoxView",
       "box_style": "",
       "children": [
        "IPY_MODEL_7ae64379099647b694c22a7816833174",
        "IPY_MODEL_117dfe4b64aa48799b011e61ef3046e4",
        "IPY_MODEL_73493f069fc94342a2265a4d3799632e"
       ],
       "layout": "IPY_MODEL_e2fec43de5df4a9d8f183a1d401b1c2f",
       "tabbable": null,
       "tooltip": null
      }
     },
     "e8e7117f662041d9aa6e44f0b0dc429d": {
      "model_module": "@jupyter-widgets/controls",
      "model_module_version": "2.0.0",
      "model_name": "HBoxModel",
      "state": {
       "_dom_classes": [],
       "_model_module": "@jupyter-widgets/controls",
       "_model_module_version": "2.0.0",
       "_model_name": "HBoxModel",
       "_view_count": null,
       "_view_module": "@jupyter-widgets/controls",
       "_view_module_version": "2.0.0",
       "_view_name": "HBoxView",
       "box_style": "",
       "children": [
        "IPY_MODEL_2540b9a6d8b540ef929acdf64c0fcd3f",
        "IPY_MODEL_eb2cb630e22446ec8dbcd0245a47d9f6",
        "IPY_MODEL_a17a91b141cc43f9bce9c641e6f8b290"
       ],
       "layout": "IPY_MODEL_9d60f5151a1a4a4ca708f822c623ff54",
       "tabbable": null,
       "tooltip": null
      }
     },
     "eb2cb630e22446ec8dbcd0245a47d9f6": {
      "model_module": "@jupyter-widgets/controls",
      "model_module_version": "2.0.0",
      "model_name": "FloatProgressModel",
      "state": {
       "_dom_classes": [],
       "_model_module": "@jupyter-widgets/controls",
       "_model_module_version": "2.0.0",
       "_model_name": "FloatProgressModel",
       "_view_count": null,
       "_view_module": "@jupyter-widgets/controls",
       "_view_module_version": "2.0.0",
       "_view_name": "ProgressView",
       "bar_style": "success",
       "description": "",
       "description_allow_html": false,
       "layout": "IPY_MODEL_47d08bd25c1e424eb9fd1eab2fecdbd5",
       "max": 581243664.0,
       "min": 0.0,
       "orientation": "horizontal",
       "style": "IPY_MODEL_99cc822bdccd4490a7d09bccd872962d",
       "tabbable": null,
       "tooltip": null,
       "value": 581243664.0
      }
     },
     "f2e3a14008f345b3b59c541757910c32": {
      "model_module": "@jupyter-widgets/base",
      "model_module_version": "2.0.0",
      "model_name": "LayoutModel",
      "state": {
       "_model_module": "@jupyter-widgets/base",
       "_model_module_version": "2.0.0",
       "_model_name": "LayoutModel",
       "_view_count": null,
       "_view_module": "@jupyter-widgets/base",
       "_view_module_version": "2.0.0",
       "_view_name": "LayoutView",
       "align_content": null,
       "align_items": null,
       "align_self": null,
       "border_bottom": null,
       "border_left": null,
       "border_right": null,
       "border_top": null,
       "bottom": null,
       "display": null,
       "flex": null,
       "flex_flow": null,
       "grid_area": null,
       "grid_auto_columns": null,
       "grid_auto_flow": null,
       "grid_auto_rows": null,
       "grid_column": null,
       "grid_gap": null,
       "grid_row": null,
       "grid_template_areas": null,
       "grid_template_columns": null,
       "grid_template_rows": null,
       "height": null,
       "justify_content": null,
       "justify_items": null,
       "left": null,
       "margin": null,
       "max_height": null,
       "max_width": null,
       "min_height": null,
       "min_width": null,
       "object_fit": null,
       "object_position": null,
       "order": null,
       "overflow": null,
       "padding": null,
       "right": null,
       "top": null,
       "visibility": null,
       "width": null
      }
     },
     "fad1b47e21834f27b05936efb16db762": {
      "model_module": "@jupyter-widgets/base",
      "model_module_version": "2.0.0",
      "model_name": "LayoutModel",
      "state": {
       "_model_module": "@jupyter-widgets/base",
       "_model_module_version": "2.0.0",
       "_model_name": "LayoutModel",
       "_view_count": null,
       "_view_module": "@jupyter-widgets/base",
       "_view_module_version": "2.0.0",
       "_view_name": "LayoutView",
       "align_content": null,
       "align_items": null,
       "align_self": null,
       "border_bottom": null,
       "border_left": null,
       "border_right": null,
       "border_top": null,
       "bottom": null,
       "display": null,
       "flex": null,
       "flex_flow": null,
       "grid_area": null,
       "grid_auto_columns": null,
       "grid_auto_flow": null,
       "grid_auto_rows": null,
       "grid_column": null,
       "grid_gap": null,
       "grid_row": null,
       "grid_template_areas": null,
       "grid_template_columns": null,
       "grid_template_rows": null,
       "height": null,
       "justify_content": null,
       "justify_items": null,
       "left": null,
       "margin": null,
       "max_height": null,
       "max_width": null,
       "min_height": null,
       "min_width": null,
       "object_fit": null,
       "object_position": null,
       "order": null,
       "overflow": null,
       "padding": null,
       "right": null,
       "top": null,
       "visibility": null,
       "width": null
      }
     },
     "ffd34b2dab0e45afaf62fecfeb7da56f": {
      "model_module": "@jupyter-widgets/controls",
      "model_module_version": "2.0.0",
      "model_name": "HTMLStyleModel",
      "state": {
       "_model_module": "@jupyter-widgets/controls",
       "_model_module_version": "2.0.0",
       "_model_name": "HTMLStyleModel",
       "_view_count": null,
       "_view_module": "@jupyter-widgets/base",
       "_view_module_version": "2.0.0",
       "_view_name": "StyleView",
       "background": null,
       "description_width": "",
       "font_size": null,
       "text_color": null
      }
     }
    },
    "version_major": 2,
    "version_minor": 0
   }
  }
 },
 "nbformat": 4,
 "nbformat_minor": 5
}
