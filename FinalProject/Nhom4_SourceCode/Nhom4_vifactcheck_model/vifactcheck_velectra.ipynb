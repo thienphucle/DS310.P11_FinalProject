{
 "cells": [
  {
   "cell_type": "code",
   "execution_count": 1,
   "id": "fa9919b7",
   "metadata": {
    "execution": {
     "iopub.execute_input": "2025-01-12T16:39:30.212098Z",
     "iopub.status.busy": "2025-01-12T16:39:30.211823Z",
     "iopub.status.idle": "2025-01-12T16:39:35.917294Z",
     "shell.execute_reply": "2025-01-12T16:39:35.916619Z"
    },
    "papermill": {
     "duration": 5.711515,
     "end_time": "2025-01-12T16:39:35.918878",
     "exception": false,
     "start_time": "2025-01-12T16:39:30.207363",
     "status": "completed"
    },
    "tags": []
   },
   "outputs": [],
   "source": [
    "import torch\n",
    "from torch import nn\n",
    "from torch.utils.data import Dataset, DataLoader\n",
    "from transformers import AutoTokenizer, AutoModel, AutoConfig\n",
    "from sklearn.model_selection import train_test_split\n",
    "import pandas as pd\n",
    "import numpy as np"
   ]
  },
  {
   "cell_type": "code",
   "execution_count": 2,
   "id": "2287a789",
   "metadata": {
    "execution": {
     "iopub.execute_input": "2025-01-12T16:39:35.925863Z",
     "iopub.status.busy": "2025-01-12T16:39:35.925518Z",
     "iopub.status.idle": "2025-01-12T16:39:35.931262Z",
     "shell.execute_reply": "2025-01-12T16:39:35.930542Z"
    },
    "papermill": {
     "duration": 0.010191,
     "end_time": "2025-01-12T16:39:35.932497",
     "exception": false,
     "start_time": "2025-01-12T16:39:35.922306",
     "status": "completed"
    },
    "tags": []
   },
   "outputs": [],
   "source": [
    "class FactCheckDataset(Dataset):\n",
    "    def __init__(self, data, tokenizer, max_len):\n",
    "        self.data = data\n",
    "        self.tokenizer = tokenizer\n",
    "        self.max_len = max_len\n",
    "\n",
    "    def __len__(self):\n",
    "        return len(self.data)\n",
    "\n",
    "    def __getitem__(self, index):\n",
    "        # Extract relevant fields\n",
    "        row = self.data.iloc[index]\n",
    "        statement = row[\"Statement\"]\n",
    "        evidence = row[\"Evidence_List\"]  # Use multi-evidence as a single string\n",
    "        label = row[\"labels\"]\n",
    "\n",
    "        # Optionally include context if available\n",
    "        context = row[\"Context\"] if \"Context\" in self.data.columns else None\n",
    "\n",
    "        # Prepare the input text\n",
    "        if context:\n",
    "            input_text = f\"Statement: {statement} Context: {context}\"\n",
    "        else:\n",
    "            input_text = f\"Statement: {statement}\"\n",
    "\n",
    "        # Tokenize statement, context, and evidence\n",
    "        inputs = self.tokenizer(\n",
    "            text=input_text,\n",
    "            text_pair=evidence,\n",
    "            max_length=self.max_len,\n",
    "            padding=\"max_length\",\n",
    "            truncation=True,\n",
    "            return_tensors=\"pt\",\n",
    "        )\n",
    "\n",
    "        # Return tokenized data and label\n",
    "        return {\n",
    "            \"input_ids\": inputs[\"input_ids\"].squeeze(0),\n",
    "            \"attention_mask\": inputs[\"attention_mask\"].squeeze(0),\n",
    "            \"label\": torch.tensor(label, dtype=torch.long),\n",
    "        }"
   ]
  },
  {
   "cell_type": "code",
   "execution_count": 3,
   "id": "07339321",
   "metadata": {
    "execution": {
     "iopub.execute_input": "2025-01-12T16:39:35.938386Z",
     "iopub.status.busy": "2025-01-12T16:39:35.938140Z",
     "iopub.status.idle": "2025-01-12T16:39:35.942586Z",
     "shell.execute_reply": "2025-01-12T16:39:35.941876Z"
    },
    "papermill": {
     "duration": 0.008684,
     "end_time": "2025-01-12T16:39:35.943736",
     "exception": false,
     "start_time": "2025-01-12T16:39:35.935052",
     "status": "completed"
    },
    "tags": []
   },
   "outputs": [],
   "source": [
    "class FactCheckModel(nn.Module):\n",
    "    def __init__(self, model_name, num_classes):\n",
    "        super(FactCheckModel, self).__init__()\n",
    "        self.bert = AutoModel.from_pretrained(model_name)\n",
    "        self.dropout = nn.Dropout(0.3)\n",
    "        self.fc = nn.Linear(self.bert.config.hidden_size, num_classes)\n",
    "\n",
    "    def forward(self, input_ids, attention_mask):\n",
    "        outputs = self.bert(input_ids=input_ids, attention_mask=attention_mask)\n",
    "        cls_output = outputs.last_hidden_state[:, 0, :]  # Use <cls> token\n",
    "        cls_output = self.dropout(cls_output)\n",
    "        logits = self.fc(cls_output)\n",
    "        return logits"
   ]
  },
  {
   "cell_type": "code",
   "execution_count": 4,
   "id": "57675b4e",
   "metadata": {
    "execution": {
     "iopub.execute_input": "2025-01-12T16:39:35.949330Z",
     "iopub.status.busy": "2025-01-12T16:39:35.949114Z",
     "iopub.status.idle": "2025-01-12T16:39:42.559212Z",
     "shell.execute_reply": "2025-01-12T16:39:42.558355Z"
    },
    "papermill": {
     "duration": 6.614475,
     "end_time": "2025-01-12T16:39:42.560664",
     "exception": false,
     "start_time": "2025-01-12T16:39:35.946189",
     "status": "completed"
    },
    "tags": []
   },
   "outputs": [
    {
     "data": {
      "application/vnd.jupyter.widget-view+json": {
       "model_id": "0f8033c6febf4e15b70818f8bf4b3c0b",
       "version_major": 2,
       "version_minor": 0
      },
      "text/plain": [
       "config.json:   0%|          | 0.00/1.27k [00:00<?, ?B/s]"
      ]
     },
     "metadata": {},
     "output_type": "display_data"
    },
    {
     "data": {
      "application/vnd.jupyter.widget-view+json": {
       "model_id": "5e7807cc7563437796f7601aaa868b84",
       "version_major": 2,
       "version_minor": 0
      },
      "text/plain": [
       "vocab.txt:   0%|          | 0.00/201k [00:00<?, ?B/s]"
      ]
     },
     "metadata": {},
     "output_type": "display_data"
    },
    {
     "name": "stderr",
     "output_type": "stream",
     "text": [
      "/usr/local/lib/python3.10/dist-packages/transformers/tokenization_utils_base.py:1601: FutureWarning: `clean_up_tokenization_spaces` was not set. It will be set to `True` by default. This behavior will be depracted in transformers v4.45, and will be then set to `False` by default. For more details check this issue: https://github.com/huggingface/transformers/issues/31884\n",
      "  warnings.warn(\n"
     ]
    },
    {
     "data": {
      "application/vnd.jupyter.widget-view+json": {
       "model_id": "fe60838ffee34e168a55fbb9fd6afb2a",
       "version_major": 2,
       "version_minor": 0
      },
      "text/plain": [
       "pytorch_model.bin:   0%|          | 0.00/443M [00:00<?, ?B/s]"
      ]
     },
     "metadata": {},
     "output_type": "display_data"
    },
    {
     "data": {
      "text/plain": [
       "FactCheckModel(\n",
       "  (bert): ElectraModel(\n",
       "    (embeddings): ElectraEmbeddings(\n",
       "      (word_embeddings): Embedding(32054, 768, padding_idx=0)\n",
       "      (position_embeddings): Embedding(512, 768)\n",
       "      (token_type_embeddings): Embedding(2, 768)\n",
       "      (LayerNorm): LayerNorm((768,), eps=1e-12, elementwise_affine=True)\n",
       "      (dropout): Dropout(p=0.1, inplace=False)\n",
       "    )\n",
       "    (encoder): ElectraEncoder(\n",
       "      (layer): ModuleList(\n",
       "        (0-11): 12 x ElectraLayer(\n",
       "          (attention): ElectraAttention(\n",
       "            (self): ElectraSelfAttention(\n",
       "              (query): Linear(in_features=768, out_features=768, bias=True)\n",
       "              (key): Linear(in_features=768, out_features=768, bias=True)\n",
       "              (value): Linear(in_features=768, out_features=768, bias=True)\n",
       "              (dropout): Dropout(p=0.1, inplace=False)\n",
       "            )\n",
       "            (output): ElectraSelfOutput(\n",
       "              (dense): Linear(in_features=768, out_features=768, bias=True)\n",
       "              (LayerNorm): LayerNorm((768,), eps=1e-12, elementwise_affine=True)\n",
       "              (dropout): Dropout(p=0.1, inplace=False)\n",
       "            )\n",
       "          )\n",
       "          (intermediate): ElectraIntermediate(\n",
       "            (dense): Linear(in_features=768, out_features=3072, bias=True)\n",
       "            (intermediate_act_fn): GELUActivation()\n",
       "          )\n",
       "          (output): ElectraOutput(\n",
       "            (dense): Linear(in_features=3072, out_features=768, bias=True)\n",
       "            (LayerNorm): LayerNorm((768,), eps=1e-12, elementwise_affine=True)\n",
       "            (dropout): Dropout(p=0.1, inplace=False)\n",
       "          )\n",
       "        )\n",
       "      )\n",
       "    )\n",
       "  )\n",
       "  (dropout): Dropout(p=0.3, inplace=False)\n",
       "  (fc): Linear(in_features=768, out_features=3, bias=True)\n",
       ")"
      ]
     },
     "execution_count": 4,
     "metadata": {},
     "output_type": "execute_result"
    }
   ],
   "source": [
    "# Pre-trained model and tokenizer \n",
    "MODEL_NAME = \"FPTAI/velectra-base-discriminator-cased\"\n",
    "tokenizer = AutoTokenizer.from_pretrained(MODEL_NAME)\n",
    "model = FactCheckModel(model_name=MODEL_NAME, num_classes=3)\n",
    "\n",
    "# Optimizer and loss function\n",
    "optimizer = torch.optim.AdamW(model.parameters(), lr=1e-5)\n",
    "loss_fn = torch.nn.CrossEntropyLoss()\n",
    "device = torch.device(\"cuda\" if torch.cuda.is_available() else \"cpu\")\n",
    "\n",
    "model.to(device)"
   ]
  },
  {
   "cell_type": "code",
   "execution_count": 5,
   "id": "c5d612c4",
   "metadata": {
    "execution": {
     "iopub.execute_input": "2025-01-12T16:39:42.568388Z",
     "iopub.status.busy": "2025-01-12T16:39:42.567944Z",
     "iopub.status.idle": "2025-01-12T16:39:44.015638Z",
     "shell.execute_reply": "2025-01-12T16:39:44.014862Z"
    },
    "papermill": {
     "duration": 1.452999,
     "end_time": "2025-01-12T16:39:44.017239",
     "exception": false,
     "start_time": "2025-01-12T16:39:42.564240",
     "status": "completed"
    },
    "tags": []
   },
   "outputs": [],
   "source": [
    "# Load train data\n",
    "train = pd.read_csv('/kaggle/input/vifactcheck/train_data.csv')\n",
    "train_dataset = FactCheckDataset(train, tokenizer, max_len=128)\n",
    "train_loader = DataLoader(train_dataset, batch_size=16, shuffle=True)\n",
    "\n",
    "# Load and preprocess dev data\n",
    "dev = pd.read_csv('/kaggle/input/vifactcheck/dev_data.csv')\n",
    "dev = dev.reset_index(drop=True)\n",
    "expected_columns = [\"Statement\", \"Evidence_List\", \"labels\"]\n",
    "missing_columns = [col for col in expected_columns if col not in dev.columns]\n",
    "if missing_columns:\n",
    "    raise ValueError(f\"Missing columns in dev data: {missing_columns}\")\n",
    "\n",
    "dev_dataset = FactCheckDataset(dev, tokenizer, max_len=128)\n",
    "dev_loader = DataLoader(dev_dataset, batch_size=16)"
   ]
  },
  {
   "cell_type": "code",
   "execution_count": 6,
   "id": "2324fa8f",
   "metadata": {
    "execution": {
     "iopub.execute_input": "2025-01-12T16:39:44.024698Z",
     "iopub.status.busy": "2025-01-12T16:39:44.024446Z",
     "iopub.status.idle": "2025-01-12T16:39:44.032343Z",
     "shell.execute_reply": "2025-01-12T16:39:44.031652Z"
    },
    "papermill": {
     "duration": 0.012916,
     "end_time": "2025-01-12T16:39:44.033637",
     "exception": false,
     "start_time": "2025-01-12T16:39:44.020721",
     "status": "completed"
    },
    "tags": []
   },
   "outputs": [],
   "source": [
    "from tqdm import tqdm\n",
    "from sklearn.metrics import classification_report\n",
    "\n",
    "def train_model(model, train_loader, dev_loader, optimizer, loss_fn, epochs=5, save_path=\"best_model.pth\"):\n",
    "    best_val_acc = 0\n",
    "\n",
    "    for epoch in range(epochs):\n",
    "        model.train()\n",
    "        train_loss = 0\n",
    "\n",
    "        for batch in tqdm(train_loader, desc=f\"Training Epoch {epoch + 1}\"):\n",
    "            input_ids = batch[\"input_ids\"].to(device)\n",
    "            attention_mask = batch[\"attention_mask\"].to(device)\n",
    "            labels = batch[\"label\"].to(device)\n",
    "\n",
    "            optimizer.zero_grad()\n",
    "            logits = model(input_ids=input_ids, attention_mask=attention_mask)\n",
    "\n",
    "            loss = loss_fn(logits, labels)\n",
    "            train_loss += loss.item()\n",
    "            loss.backward()\n",
    "            optimizer.step()\n",
    "\n",
    "        print(f\"Epoch {epoch + 1}, Train Loss: {train_loss / len(train_loader):.4f}\")\n",
    "\n",
    "\n",
    "        # Validation\n",
    "        model.eval()\n",
    "        val_loss = 0\n",
    "        correct = 0\n",
    "        total = 0\n",
    "        all_preds = []\n",
    "        all_labels = []\n",
    "\n",
    "        with torch.no_grad():\n",
    "            for batch in tqdm(dev_loader, desc=\"Validating\"):\n",
    "                input_ids = batch[\"input_ids\"].to(device)\n",
    "                attention_mask = batch[\"attention_mask\"].to(device)\n",
    "                labels = batch[\"label\"].to(device)\n",
    "        \n",
    "                logits = model(input_ids=input_ids, attention_mask=attention_mask)\n",
    "                loss = loss_fn(logits, labels)\n",
    "                val_loss += loss.item()\n",
    "        \n",
    "                preds = torch.argmax(logits, dim=1)\n",
    "                correct += (preds == labels).sum().item()\n",
    "                total += labels.size(0)\n",
    "        \n",
    "                all_preds.extend(preds.cpu().numpy())\n",
    "                all_labels.extend(labels.cpu().numpy())\n",
    "        \n",
    "        val_acc = correct / total\n",
    "        print(f\"Validation Loss: {val_loss / len(dev_loader):.4f}, Validation Accuracy: {val_acc:.4f}\")\n",
    "        \n",
    "        # Print detailed metrics\n",
    "        print(classification_report(all_labels, all_preds, target_names=[\"supported\", \"refuted\", \"n.e.i\"]))"
   ]
  },
  {
   "cell_type": "code",
   "execution_count": 7,
   "id": "d24a9846",
   "metadata": {
    "collapsed": true,
    "execution": {
     "iopub.execute_input": "2025-01-12T16:39:44.040573Z",
     "iopub.status.busy": "2025-01-12T16:39:44.040356Z",
     "iopub.status.idle": "2025-01-12T16:45:16.664132Z",
     "shell.execute_reply": "2025-01-12T16:45:16.663293Z"
    },
    "jupyter": {
     "outputs_hidden": true
    },
    "papermill": {
     "duration": 332.628841,
     "end_time": "2025-01-12T16:45:16.665638",
     "exception": false,
     "start_time": "2025-01-12T16:39:44.036797",
     "status": "completed"
    },
    "tags": []
   },
   "outputs": [
    {
     "name": "stderr",
     "output_type": "stream",
     "text": [
      "Training Epoch 1: 100%|██████████| 317/317 [01:01<00:00,  5.18it/s]\n"
     ]
    },
    {
     "name": "stdout",
     "output_type": "stream",
     "text": [
      "Epoch 1, Train Loss: 1.0739\n"
     ]
    },
    {
     "name": "stderr",
     "output_type": "stream",
     "text": [
      "Validating: 100%|██████████| 46/46 [00:05<00:00,  8.18it/s]\n"
     ]
    },
    {
     "name": "stdout",
     "output_type": "stream",
     "text": [
      "Validation Loss: 0.9218, Validation Accuracy: 0.5671\n",
      "              precision    recall  f1-score   support\n",
      "\n",
      "   supported       0.53      0.75      0.62       256\n",
      "     refuted       0.52      0.56      0.54       244\n",
      "       n.e.i       0.85      0.37      0.51       223\n",
      "\n",
      "    accuracy                           0.57       723\n",
      "   macro avg       0.63      0.56      0.56       723\n",
      "weighted avg       0.62      0.57      0.56       723\n",
      "\n"
     ]
    },
    {
     "name": "stderr",
     "output_type": "stream",
     "text": [
      "Training Epoch 2: 100%|██████████| 317/317 [01:00<00:00,  5.23it/s]\n"
     ]
    },
    {
     "name": "stdout",
     "output_type": "stream",
     "text": [
      "Epoch 2, Train Loss: 0.7609\n"
     ]
    },
    {
     "name": "stderr",
     "output_type": "stream",
     "text": [
      "Validating: 100%|██████████| 46/46 [00:05<00:00,  7.96it/s]\n"
     ]
    },
    {
     "name": "stdout",
     "output_type": "stream",
     "text": [
      "Validation Loss: 0.6869, Validation Accuracy: 0.7123\n",
      "              precision    recall  f1-score   support\n",
      "\n",
      "   supported       0.72      0.71      0.72       256\n",
      "     refuted       0.70      0.64      0.67       244\n",
      "       n.e.i       0.71      0.80      0.75       223\n",
      "\n",
      "    accuracy                           0.71       723\n",
      "   macro avg       0.71      0.71      0.71       723\n",
      "weighted avg       0.71      0.71      0.71       723\n",
      "\n"
     ]
    },
    {
     "name": "stderr",
     "output_type": "stream",
     "text": [
      "Training Epoch 3: 100%|██████████| 317/317 [01:00<00:00,  5.23it/s]\n"
     ]
    },
    {
     "name": "stdout",
     "output_type": "stream",
     "text": [
      "Epoch 3, Train Loss: 0.5867\n"
     ]
    },
    {
     "name": "stderr",
     "output_type": "stream",
     "text": [
      "Validating: 100%|██████████| 46/46 [00:05<00:00,  8.01it/s]\n"
     ]
    },
    {
     "name": "stdout",
     "output_type": "stream",
     "text": [
      "Validation Loss: 0.8174, Validation Accuracy: 0.6708\n",
      "              precision    recall  f1-score   support\n",
      "\n",
      "   supported       0.85      0.48      0.62       256\n",
      "     refuted       0.56      0.83      0.67       244\n",
      "       n.e.i       0.75      0.71      0.73       223\n",
      "\n",
      "    accuracy                           0.67       723\n",
      "   macro avg       0.72      0.67      0.67       723\n",
      "weighted avg       0.72      0.67      0.67       723\n",
      "\n"
     ]
    },
    {
     "name": "stderr",
     "output_type": "stream",
     "text": [
      "Training Epoch 4: 100%|██████████| 317/317 [01:00<00:00,  5.22it/s]\n"
     ]
    },
    {
     "name": "stdout",
     "output_type": "stream",
     "text": [
      "Epoch 4, Train Loss: 0.4371\n"
     ]
    },
    {
     "name": "stderr",
     "output_type": "stream",
     "text": [
      "Validating: 100%|██████████| 46/46 [00:05<00:00,  8.04it/s]\n"
     ]
    },
    {
     "name": "stdout",
     "output_type": "stream",
     "text": [
      "Validation Loss: 0.8016, Validation Accuracy: 0.6985\n",
      "              precision    recall  f1-score   support\n",
      "\n",
      "   supported       0.74      0.65      0.69       256\n",
      "     refuted       0.62      0.79      0.69       244\n",
      "       n.e.i       0.79      0.66      0.72       223\n",
      "\n",
      "    accuracy                           0.70       723\n",
      "   macro avg       0.71      0.70      0.70       723\n",
      "weighted avg       0.71      0.70      0.70       723\n",
      "\n"
     ]
    },
    {
     "name": "stderr",
     "output_type": "stream",
     "text": [
      "Training Epoch 5: 100%|██████████| 317/317 [01:00<00:00,  5.22it/s]\n"
     ]
    },
    {
     "name": "stdout",
     "output_type": "stream",
     "text": [
      "Epoch 5, Train Loss: 0.3036\n"
     ]
    },
    {
     "name": "stderr",
     "output_type": "stream",
     "text": [
      "Validating: 100%|██████████| 46/46 [00:05<00:00,  8.04it/s]"
     ]
    },
    {
     "name": "stdout",
     "output_type": "stream",
     "text": [
      "Validation Loss: 1.0758, Validation Accuracy: 0.7026\n",
      "              precision    recall  f1-score   support\n",
      "\n",
      "   supported       0.81      0.61      0.69       256\n",
      "     refuted       0.61      0.81      0.69       244\n",
      "       n.e.i       0.76      0.69      0.72       223\n",
      "\n",
      "    accuracy                           0.70       723\n",
      "   macro avg       0.72      0.70      0.70       723\n",
      "weighted avg       0.72      0.70      0.70       723\n",
      "\n"
     ]
    },
    {
     "name": "stderr",
     "output_type": "stream",
     "text": [
      "\n"
     ]
    }
   ],
   "source": [
    "train_model(model, train_loader, dev_loader, optimizer, loss_fn, epochs=5)"
   ]
  },
  {
   "cell_type": "code",
   "execution_count": 8,
   "id": "3ec58723",
   "metadata": {
    "execution": {
     "iopub.execute_input": "2025-01-12T16:45:16.876728Z",
     "iopub.status.busy": "2025-01-12T16:45:16.876417Z",
     "iopub.status.idle": "2025-01-12T16:45:16.881459Z",
     "shell.execute_reply": "2025-01-12T16:45:16.880752Z"
    },
    "papermill": {
     "duration": 0.130196,
     "end_time": "2025-01-12T16:45:16.882627",
     "exception": false,
     "start_time": "2025-01-12T16:45:16.752431",
     "status": "completed"
    },
    "tags": []
   },
   "outputs": [],
   "source": [
    "def predict(model, tokenizer, statement, evidence, max_len=128):\n",
    "    model.eval()\n",
    "    inputs = tokenizer(\n",
    "        text=statement,\n",
    "        text_pair=evidence,\n",
    "        max_length=max_len,\n",
    "        padding=\"max_length\",\n",
    "        truncation=True,\n",
    "        return_tensors=\"pt\"\n",
    "    )\n",
    "\n",
    "    input_ids = inputs[\"input_ids\"].to(device)\n",
    "    attention_mask = inputs[\"attention_mask\"].to(device)\n",
    "\n",
    "    with torch.no_grad():\n",
    "        outputs = model(input_ids=input_ids, attention_mask=attention_mask)\n",
    "        probs = torch.nn.functional.softmax(outputs.logits, dim=1)\n",
    "        prediction = torch.argmax(probs, dim=1).item()\n",
    "\n",
    "    return prediction, probs"
   ]
  },
  {
   "cell_type": "code",
   "execution_count": 9,
   "id": "92109a55",
   "metadata": {
    "execution": {
     "iopub.execute_input": "2025-01-12T16:45:17.048204Z",
     "iopub.status.busy": "2025-01-12T16:45:17.047785Z",
     "iopub.status.idle": "2025-01-12T16:45:17.272027Z",
     "shell.execute_reply": "2025-01-12T16:45:17.271284Z"
    },
    "papermill": {
     "duration": 0.308864,
     "end_time": "2025-01-12T16:45:17.273610",
     "exception": false,
     "start_time": "2025-01-12T16:45:16.964746",
     "status": "completed"
    },
    "tags": []
   },
   "outputs": [],
   "source": [
    "from sklearn.metrics import (\n",
    "    classification_report, confusion_matrix, accuracy_score, \n",
    "    precision_score, recall_score, f1_score, roc_auc_score, average_precision_score\n",
    ")\n",
    "import seaborn as sns\n",
    "import matplotlib.pyplot as plt\n",
    "import numpy as np\n",
    "import torch\n",
    "\n",
    "def evaluate_model(model, data_loader):\n",
    "    model.eval()\n",
    "    all_preds = []\n",
    "    all_labels = []\n",
    "    all_probs = []  # To store probabilities for ROC-AUC and PR-AUC calculations\n",
    "\n",
    "    with torch.no_grad():\n",
    "        for batch in data_loader:\n",
    "            input_ids = batch[\"input_ids\"].to(device)\n",
    "            attention_mask = batch[\"attention_mask\"].to(device)\n",
    "            labels = batch[\"label\"].to(device)\n",
    "\n",
    "            # Model predictions\n",
    "            logits = model(input_ids=input_ids, attention_mask=attention_mask)\n",
    "            probs = torch.softmax(logits, dim=1)  # Probabilities for ROC-AUC and PR-AUC\n",
    "            preds = torch.argmax(logits, dim=1)\n",
    "\n",
    "            all_probs.extend(probs.cpu().numpy())\n",
    "            all_preds.extend(preds.cpu().numpy())\n",
    "            all_labels.extend(labels.cpu().numpy())\n",
    "\n",
    "    all_probs = np.array(all_probs)\n",
    "\n",
    "    # Classification report\n",
    "    print(\"Classification Report:\")\n",
    "    print(classification_report(all_labels, all_preds))\n",
    "\n",
    "    # Confusion matrix\n",
    "    cm = confusion_matrix(all_labels, all_preds)\n",
    "    plt.figure(figsize=(8, 6))\n",
    "    sns.heatmap(cm, annot=True, fmt=\"d\", cmap=\"Blues\", xticklabels=['Label 0', 'Label 1', 'Label 2'], yticklabels=['Label 0', 'Label 1', 'Label 2'])\n",
    "    plt.xlabel(\"Predicted\")\n",
    "    plt.ylabel(\"True\")\n",
    "    plt.title(\"Confusion Matrix\")\n",
    "    plt.show()\n",
    "\n",
    "    # Accuracy\n",
    "    accuracy = accuracy_score(all_labels, all_preds)\n",
    "    print(f\"Accuracy: {accuracy:.4f}\")\n",
    "\n",
    "    # Precision, Recall, and F1-Score\n",
    "    precision = precision_score(all_labels, all_preds, average=\"weighted\")\n",
    "    recall = recall_score(all_labels, all_preds, average=\"weighted\")\n",
    "    f1_macro = f1_score(all_labels, all_preds, average='macro')\n",
    "    f1_micro = f1_score(all_labels, all_preds, average='micro')\n",
    "\n",
    "    print(f\"Precision: {precision:.4f}\")\n",
    "    print(f\"Recall: {recall:.4f}\")\n",
    "    print(f\"F1-Score (Macro): {f1_macro:.4f}\")\n",
    "    print(f\"F1-Score (Micro): {f1_micro:.4f}\")\n",
    "\n",
    "    # ROC-AUC (for multi-class)\n",
    "    try:\n",
    "        roc_auc = roc_auc_score(all_labels, all_probs, multi_class='ovr')\n",
    "        print(f\"ROC-AUC: {roc_auc:.4f}\")\n",
    "    except ValueError:\n",
    "        print(\"ROC-AUC could not be calculated due to incompatible inputs.\")\n",
    "\n",
    "    # PR-AUC (for multi-class, using average_precision_score)\n",
    "    try:\n",
    "        pr_auc = average_precision_score(all_labels, all_probs, average='macro')\n",
    "        print(f\"PR-AUC: {pr_auc:.4f}\")\n",
    "    except ValueError:\n",
    "        print(\"PR-AUC could not be calculated due to incompatible inputs.\")\n",
    "\n",
    "    return all_preds, all_labels\n"
   ]
  },
  {
   "cell_type": "code",
   "execution_count": 10,
   "id": "9069b5b9",
   "metadata": {
    "execution": {
     "iopub.execute_input": "2025-01-12T16:45:17.440031Z",
     "iopub.status.busy": "2025-01-12T16:45:17.439530Z",
     "iopub.status.idle": "2025-01-12T16:45:17.812881Z",
     "shell.execute_reply": "2025-01-12T16:45:17.811844Z"
    },
    "papermill": {
     "duration": 0.458261,
     "end_time": "2025-01-12T16:45:17.814445",
     "exception": false,
     "start_time": "2025-01-12T16:45:17.356184",
     "status": "completed"
    },
    "tags": []
   },
   "outputs": [],
   "source": [
    "# Load and preprocess dev data\n",
    "test = pd.read_csv('/kaggle/input/vifactcheck/test_data.csv')\n",
    "test = test.reset_index(drop=True)\n",
    "expected_columns = [\"Statement\", \"Evidence_List\", \"labels\"]\n",
    "missing_columns = [col for col in expected_columns if col not in test.columns]\n",
    "if missing_columns:\n",
    "    raise ValueError(f\"Missing columns in test data: {missing_columns}\")\n",
    "\n",
    "test_dataset = FactCheckDataset(test, tokenizer, max_len=128)\n",
    "test_loader = DataLoader(test_dataset, batch_size=16)"
   ]
  },
  {
   "cell_type": "code",
   "execution_count": 11,
   "id": "7e5ec933",
   "metadata": {
    "execution": {
     "iopub.execute_input": "2025-01-12T16:45:17.978042Z",
     "iopub.status.busy": "2025-01-12T16:45:17.977758Z",
     "iopub.status.idle": "2025-01-12T16:45:29.901697Z",
     "shell.execute_reply": "2025-01-12T16:45:29.900871Z"
    },
    "papermill": {
     "duration": 12.007279,
     "end_time": "2025-01-12T16:45:29.902970",
     "exception": false,
     "start_time": "2025-01-12T16:45:17.895691",
     "status": "completed"
    },
    "tags": []
   },
   "outputs": [
    {
     "name": "stdout",
     "output_type": "stream",
     "text": [
      "Classification Report:\n",
      "              precision    recall  f1-score   support\n",
      "\n",
      "           0       0.81      0.62      0.70       508\n",
      "           1       0.60      0.79      0.68       468\n",
      "           2       0.78      0.74      0.76       471\n",
      "\n",
      "    accuracy                           0.71      1447\n",
      "   macro avg       0.73      0.72      0.71      1447\n",
      "weighted avg       0.73      0.71      0.71      1447\n",
      "\n"
     ]
    },
    {
     "data": {
      "image/png": "[encoded data removed]",
      "text/plain": [
       "<Figure size 800x600 with 2 Axes>"
      ]
     },
     "metadata": {},
     "output_type": "display_data"
    },
    {
     "name": "stdout",
     "output_type": "stream",
     "text": [
      "Accuracy: 0.7125\n",
      "Precision: 0.7317\n",
      "Recall: 0.7125\n",
      "F1-Score (Macro): 0.7140\n",
      "F1-Score (Micro): 0.7125\n",
      "ROC-AUC: 0.8886\n",
      "PR-AUC could not be calculated due to incompatible inputs.\n"
     ]
    }
   ],
   "source": [
    "# Evaluate the model\n",
    "test_preds, test_labels = evaluate_model(model, test_loader)"
   ]
  },
  {
   "cell_type": "code",
   "execution_count": 12,
   "id": "b6d65ffd",
   "metadata": {
    "execution": {
     "iopub.execute_input": "2025-01-12T16:45:30.069167Z",
     "iopub.status.busy": "2025-01-12T16:45:30.068875Z",
     "iopub.status.idle": "2025-01-12T16:45:30.077086Z",
     "shell.execute_reply": "2025-01-12T16:45:30.076470Z"
    },
    "papermill": {
     "duration": 0.091579,
     "end_time": "2025-01-12T16:45:30.078237",
     "exception": false,
     "start_time": "2025-01-12T16:45:29.986658",
     "status": "completed"
    },
    "tags": []
   },
   "outputs": [
    {
     "name": "stdout",
     "output_type": "stream",
     "text": [
      "Statement: Bộ xương bản sao được đưa đến Lodon bằng cách nghép thành con hoàn chỉnh rồi vận chuyển đến.\n",
      "Evidence: đại diện Bảo tàng Lịch sử tự nhiên London cho biết bộ xương bản sao đã được đưa đến London trong 32 thùng riêng biệt, nghĩa là \"mỗi mảnh phải được ghép lại với nhau như một trò chơi ghép hình khổng lồ\".\n",
      "True Label: 1, Predicted Label: 2\n",
      "--------------------------------------------------\n",
      "Statement: Phần vỏ bánh được làm rất công phu, từ giai đoạn xay gạo đến cuốn bánh hết tổng 4 tiếng đồng hồ.\n",
      "Evidence: Gạo tẻ ngon được xay nhuyễn bằng cối đá từ xưa, sau đó loại bỏ tạp chất bằng cách lọc qua nước để lấy bột nõn. Đây là công thức từ thời mẹ ông để lại và vẫn được ông duy trì những năm qua. Khách đến gọi mới được phục vụ. Bột tráng bánh được múc theo từng muôi rưới lên mặt nồi hấp, tráng đều rồi đậy vung. Hấp khoảng một phút vỏ bánh vừa chín tới, có độ dai nhẹ. Ông Chính dùng que tre dẹt cuốn lấy vỏ bánh đặt lên đĩa, cho phần nhân đã được xào chín vào rồi cẩn thận cuộn tròn sao cho vỏ không bị rách, cắt đôi và rắc thêm chút hành khô.\n",
      "True Label: 2, Predicted Label: 1\n",
      "--------------------------------------------------\n",
      "Statement: Đối tượng cố gắng bỏ chạy sau khi lực lượng công an đón dừng xe để kiểm tra.\n",
      "Evidence: Khi lực lượng công an đón dừng xe để kiểm tra, Thành đã tăng tốc độ để bỏ chạy và va chạm với một xe ô tô khác đi ngược chiều\n",
      "True Label: 0, Predicted Label: 1\n",
      "--------------------------------------------------\n",
      "Statement: Vì lượng mưa khổng lồ do cơn bão tạo ra đã dẫn đến nhiều vụ sạt lở và ngập lụt, miền nam Mozambique nhận lượng mưa cao hơn gấp đôi hàng năm, và dự kiến nếu bão cứ tiếp tục độ bổ thì lượng mưa tại đây sẽ cao nhất trong lịch sử từ trước đến giờ.\n",
      "Evidence: Cơn bão trút lượng mưa khổng lồ xuống đất liền, dẫn tới nhiều vụ sạt lở và ngập lụt Miền nam Mozambique nhận lượng mưa cao hơn gấp đôi hàng năm\n",
      "True Label: 2, Predicted Label: 2\n",
      "--------------------------------------------------\n",
      "Statement: Tại một địa điểm trên địa bàn huyện Củ Chi, TPHCM, Công an đã phát hiện hai nghi phạm có liên quan đến vụ việc là N. được xác định là mẹ ruột bé Th. và B. là người đàn ông xăm trổ xuất hiện trong video clip được lan truyền những ngày gần đây với nội dung bạo hành.\n",
      "Evidence: N. được xác định là mẹ ruột của bé Th. B. chính là người đàn ông xăm trổ trong các clip lan truyền trên mạng xã hội về nội dung bạo hành Công an đã phát hiện B. và N. tại một địa điểm trên địa bàn huyện Củ Chi, TPHCM.\n",
      "True Label: 0, Predicted Label: 1\n",
      "--------------------------------------------------\n"
     ]
    }
   ],
   "source": [
    "def visualize_predictions(data, predictions, labels, n=5):\n",
    "    for i in range(n):\n",
    "        print(f\"Statement: {data.iloc[i]['Statement']}\")\n",
    "        print(f\"Evidence: {data.iloc[i]['Evidence']}\")\n",
    "        print(f\"True Label: {labels[i]}, Predicted Label: {predictions[i]}\")\n",
    "        print(\"-\" * 50)\n",
    "\n",
    "visualize_predictions(test, test_preds, test_labels)"
   ]
  }
 ],
 "metadata": {
  "kaggle": {
   "accelerator": "gpu",
   "dataSources": [
    {
     "datasetId": 6329698,
     "sourceId": 10236357,
     "sourceType": "datasetVersion"
    }
   ],
   "dockerImageVersionId": 30823,
   "isGpuEnabled": true,
   "isInternetEnabled": true,
   "language": "python",
   "sourceType": "notebook"
  },
  "kernelspec": {
   "display_name": "Python 3",
   "language": "python",
   "name": "python3"
  },
  "language_info": {
   "codemirror_mode": {
    "name": "ipython",
    "version": 3
   },
   "file_extension": ".py",
   "mimetype": "text/x-python",
   "name": "python",
   "nbconvert_exporter": "python",
   "pygments_lexer": "ipython3",
   "version": "3.10.12"
  },
  "papermill": {
   "default_parameters": {},
   "duration": 363.636568,
   "end_time": "2025-01-12T16:45:31.683129",
   "environment_variables": {},
   "exception": null,
   "input_path": "__notebook__.ipynb",
   "output_path": "__notebook__.ipynb",
   "parameters": {},
   "start_time": "2025-01-12T16:39:28.046561",
   "version": "2.6.0"
  },
  "widgets": {
   "application/vnd.jupyter.widget-state+json": {
    "state": {
     "024d2ed9a89b44eabb844a075bf13cd6": {
      "model_module": "@jupyter-widgets/base",
      "model_module_version": "2.0.0",
      "model_name": "LayoutModel",
      "state": {
       "_model_module": "@jupyter-widgets/base",
       "_model_module_version": "2.0.0",
       "_model_name": "LayoutModel",
       "_view_count": null,
       "_view_module": "@jupyter-widgets/base",
       "_view_module_version": "2.0.0",
       "_view_name": "LayoutView",
       "align_content": null,
       "align_items": null,
       "align_self": null,
       "border_bottom": null,
       "border_left": null,
       "border_right": null,
       "border_top": null,
       "bottom": null,
       "display": null,
       "flex": null,
       "flex_flow": null,
       "grid_area": null,
       "grid_auto_columns": null,
       "grid_auto_flow": null,
       "grid_auto_rows": null,
       "grid_column": null,
       "grid_gap": null,
       "grid_row": null,
       "grid_template_areas": null,
       "grid_template_columns": null,
       "grid_template_rows": null,
       "height": null,
       "justify_content": null,
       "justify_items": null,
       "left": null,
       "margin": null,
       "max_height": null,
       "max_width": null,
       "min_height": null,
       "min_width": null,
       "object_fit": null,
       "object_position": null,
       "order": null,
       "overflow": null,
       "padding": null,
       "right": null,
       "top": null,
       "visibility": null,
       "width": null
      }
     },
     "0adebfc30e3347f9a66e066ca9167ce0": {
      "model_module": "@jupyter-widgets/base",
      "model_module_version": "2.0.0",
      "model_name": "LayoutModel",
      "state": {
       "_model_module": "@jupyter-widgets/base",
       "_model_module_version": "2.0.0",
       "_model_name": "LayoutModel",
       "_view_count": null,
       "_view_module": "@jupyter-widgets/base",
       "_view_module_version": "2.0.0",
       "_view_name": "LayoutView",
       "align_content": null,
       "align_items": null,
       "align_self": null,
       "border_bottom": null,
       "border_left": null,
       "border_right": null,
       "border_top": null,
       "bottom": null,
       "display": null,
       "flex": null,
       "flex_flow": null,
       "grid_area": null,
       "grid_auto_columns": null,
       "grid_auto_flow": null,
       "grid_auto_rows": null,
       "grid_column": null,
       "grid_gap": null,
       "grid_row": null,
       "grid_template_areas": null,
       "grid_template_columns": null,
       "grid_template_rows": null,
       "height": null,
       "justify_content": null,
       "justify_items": null,
       "left": null,
       "margin": null,
       "max_height": null,
       "max_width": null,
       "min_height": null,
       "min_width": null,
       "object_fit": null,
       "object_position": null,
       "order": null,
       "overflow": null,
       "padding": null,
       "right": null,
       "top": null,
       "visibility": null,
       "width": null
      }
     },
     "0f8033c6febf4e15b70818f8bf4b3c0b": {
      "model_module": "@jupyter-widgets/controls",
      "model_module_version": "2.0.0",
      "model_name": "HBoxModel",
      "state": {
       "_dom_classes": [],
       "_model_module": "@jupyter-widgets/controls",
       "_model_module_version": "2.0.0",
       "_model_name": "HBoxModel",
       "_view_count": null,
       "_view_module": "@jupyter-widgets/controls",
       "_view_module_version": "2.0.0",
       "_view_name": "HBoxView",
       "box_style": "",
       "children": [
        "IPY_MODEL_cb41e99db82f453ea535d609e0a48ff2",
        "IPY_MODEL_aa78d9b00ddb47fe84a3c3a3c51845e8",
        "IPY_MODEL_8a2c1d810b134c589c1d6954efb33433"
       ],
       "layout": "IPY_MODEL_e2cc0b490ca140ce9f6d945af70a3086",
       "tabbable": null,
       "tooltip": null
      }
     },
     "2e01ebd6311d4fc7be94f7bce062439e": {
      "model_module": "@jupyter-widgets/controls",
      "model_module_version": "2.0.0",
      "model_name": "HTMLStyleModel",
      "state": {
       "_model_module": "@jupyter-widgets/controls",
       "_model_module_version": "2.0.0",
       "_model_name": "HTMLStyleModel",
       "_view_count": null,
       "_view_module": "@jupyter-widgets/base",
       "_view_module_version": "2.0.0",
       "_view_name": "StyleView",
       "background": null,
       "description_width": "",
       "font_size": null,
       "text_color": null
      }
     },
     "340de9ce8a50470ea9c28653ae516507": {
      "model_module": "@jupyter-widgets/controls",
      "model_module_version": "2.0.0",
      "model_name": "HTMLStyleModel",
      "state": {
       "_model_module": "@jupyter-widgets/controls",
       "_model_module_version": "2.0.0",
       "_model_name": "HTMLStyleModel",
       "_view_count": null,
       "_view_module": "@jupyter-widgets/base",
       "_view_module_version": "2.0.0",
       "_view_name": "StyleView",
       "background": null,
       "description_width": "",
       "font_size": null,
       "text_color": null
      }
     },
     "391209dbdf02497d90c4fb392f0aff64": {
      "model_module": "@jupyter-widgets/controls",
      "model_module_version": "2.0.0",
      "model_name": "ProgressStyleModel",
      "state": {
       "_model_module": "@jupyter-widgets/controls",
       "_model_module_version": "2.0.0",
       "_model_name": "ProgressStyleModel",
       "_view_count": null,
       "_view_module": "@jupyter-widgets/base",
       "_view_module_version": "2.0.0",
       "_view_name": "StyleView",
       "bar_color": null,
       "description_width": ""
      }
     },
     "3c033a798ab043578029eda7ce6966b8": {
      "model_module": "@jupyter-widgets/controls",
      "model_module_version": "2.0.0",
      "model_name": "ProgressStyleModel",
      "state": {
       "_model_module": "@jupyter-widgets/controls",
       "_model_module_version": "2.0.0",
       "_model_name": "ProgressStyleModel",
       "_view_count": null,
       "_view_module": "@jupyter-widgets/base",
       "_view_module_version": "2.0.0",
       "_view_name": "StyleView",
       "bar_color": null,
       "description_width": ""
      }
     },
     "4002ea4f30e84620b992b51544b9a755": {
      "model_module": "@jupyter-widgets/controls",
      "model_module_version": "2.0.0",
      "model_name": "HTMLModel",
      "state": {
       "_dom_classes": [],
       "_model_module": "@jupyter-widgets/controls",
       "_model_module_version": "2.0.0",
       "_model_name": "HTMLModel",
       "_view_count": null,
       "_view_module": "@jupyter-widgets/controls",
       "_view_module_version": "2.0.0",
       "_view_name": "HTMLView",
       "description": "",
       "description_allow_html": false,
       "layout": "IPY_MODEL_e52d7b515dcc426aaaecb93eb92a8e8f",
       "placeholder": "​",
       "style": "IPY_MODEL_340de9ce8a50470ea9c28653ae516507",
       "tabbable": null,
       "tooltip": null,
       "value": " 443M/443M [00:01&lt;00:00, 199MB/s]"
      }
     },
     "43df5666f24f4111a1f6dddbd13f9ba5": {
      "model_module": "@jupyter-widgets/base",
      "model_module_version": "2.0.0",
      "model_name": "LayoutModel",
      "state": {
       "_model_module": "@jupyter-widgets/base",
       "_model_module_version": "2.0.0",
       "_model_name": "LayoutModel",
       "_view_count": null,
       "_view_module": "@jupyter-widgets/base",
       "_view_module_version": "2.0.0",
       "_view_name": "LayoutView",
       "align_content": null,
       "align_items": null,
       "align_self": null,
       "border_bottom": null,
       "border_left": null,
       "border_right": null,
       "border_top": null,
       "bottom": null,
       "display": null,
       "flex": null,
       "flex_flow": null,
       "grid_area": null,
       "grid_auto_columns": null,
       "grid_auto_flow": null,
       "grid_auto_rows": null,
       "grid_column": null,
       "grid_gap": null,
       "grid_row": null,
       "grid_template_areas": null,
       "grid_template_columns": null,
       "grid_template_rows": null,
       "height": null,
       "justify_content": null,
       "justify_items": null,
       "left": null,
       "margin": null,
       "max_height": null,
       "max_width": null,
       "min_height": null,
       "min_width": null,
       "object_fit": null,
       "object_position": null,
       "order": null,
       "overflow": null,
       "padding": null,
       "right": null,
       "top": null,
       "visibility": null,
       "width": null
      }
     },
     "4e01975804f04cf9aec0b64a66b5d302": {
      "model_module": "@jupyter-widgets/controls",
      "model_module_version": "2.0.0",
      "model_name": "HTMLModel",
      "state": {
       "_dom_classes": [],
       "_model_module": "@jupyter-widgets/controls",
       "_model_module_version": "2.0.0",
       "_model_name": "HTMLModel",
       "_view_count": null,
       "_view_module": "@jupyter-widgets/controls",
       "_view_module_version": "2.0.0",
       "_view_name": "HTMLView",
       "description": "",
       "description_allow_html": false,
       "layout": "IPY_MODEL_43df5666f24f4111a1f6dddbd13f9ba5",
       "placeholder": "​",
       "style": "IPY_MODEL_c18d033ab0824dd2b7e41fd1784b1d90",
       "tabbable": null,
       "tooltip": null,
       "value": "vocab.txt: 100%"
      }
     },
     "5e7807cc7563437796f7601aaa868b84": {
      "model_module": "@jupyter-widgets/controls",
      "model_module_version": "2.0.0",
      "model_name": "HBoxModel",
      "state": {
       "_dom_classes": [],
       "_model_module": "@jupyter-widgets/controls",
       "_model_module_version": "2.0.0",
       "_model_name": "HBoxModel",
       "_view_count": null,
       "_view_module": "@jupyter-widgets/controls",
       "_view_module_version": "2.0.0",
       "_view_name": "HBoxView",
       "box_style": "",
       "children": [
        "IPY_MODEL_4e01975804f04cf9aec0b64a66b5d302",
        "IPY_MODEL_e5f73768613948478eb550be472ebc86",
        "IPY_MODEL_77d849fe05f1493a961579d36801e8eb"
       ],
       "layout": "IPY_MODEL_d3a4712c6b6e4c70b6efcc5135115865",
       "tabbable": null,
       "tooltip": null
      }
     },
     "66be69fc2db84bbb83f93afbf13c8cdf": {
      "model_module": "@jupyter-widgets/controls",
      "model_module_version": "2.0.0",
      "model_name": "HTMLModel",
      "state": {
       "_dom_classes": [],
       "_model_module": "@jupyter-widgets/controls",
       "_model_module_version": "2.0.0",
       "_model_name": "HTMLModel",
       "_view_count": null,
       "_view_module": "@jupyter-widgets/controls",
       "_view_module_version": "2.0.0",
       "_view_name": "HTMLView",
       "description": "",
       "description_allow_html": false,
       "layout": "IPY_MODEL_db4390575d4c418e9c8e09139dc4d65f",
       "placeholder": "​",
       "style": "IPY_MODEL_e31862f8bb2a4024b1a8836d4e7951b4",
       "tabbable": null,
       "tooltip": null,
       "value": "pytorch_model.bin: 100%"
      }
     },
     "77d849fe05f1493a961579d36801e8eb": {
      "model_module": "@jupyter-widgets/controls",
      "model_module_version": "2.0.0",
      "model_name": "HTMLModel",
      "state": {
       "_dom_classes": [],
       "_model_module": "@jupyter-widgets/controls",
       "_model_module_version": "2.0.0",
       "_model_name": "HTMLModel",
       "_view_count": null,
       "_view_module": "@jupyter-widgets/controls",
       "_view_module_version": "2.0.0",
       "_view_name": "HTMLView",
       "description": "",
       "description_allow_html": false,
       "layout": "IPY_MODEL_024d2ed9a89b44eabb844a075bf13cd6",
       "placeholder": "​",
       "style": "IPY_MODEL_f8907f18320f4ecfa9bef362b90806f3",
       "tabbable": null,
       "tooltip": null,
       "value": " 201k/201k [00:00&lt;00:00, 2.75MB/s]"
      }
     },
     "8a2c1d810b134c589c1d6954efb33433": {
      "model_module": "@jupyter-widgets/controls",
      "model_module_version": "2.0.0",
      "model_name": "HTMLModel",
      "state": {
       "_dom_classes": [],
       "_model_module": "@jupyter-widgets/controls",
       "_model_module_version": "2.0.0",
       "_model_name": "HTMLModel",
       "_view_count": null,
       "_view_module": "@jupyter-widgets/controls",
       "_view_module_version": "2.0.0",
       "_view_name": "HTMLView",
       "description": "",
       "description_allow_html": false,
       "layout": "IPY_MODEL_d5bb9fb510d549458d6651aa7fd23b79",
       "placeholder": "​",
       "style": "IPY_MODEL_2e01ebd6311d4fc7be94f7bce062439e",
       "tabbable": null,
       "tooltip": null,
       "value": " 1.27k/1.27k [00:00&lt;00:00, 97.2kB/s]"
      }
     },
     "aa78d9b00ddb47fe84a3c3a3c51845e8": {
      "model_module": "@jupyter-widgets/controls",
      "model_module_version": "2.0.0",
      "model_name": "FloatProgressModel",
      "state": {
       "_dom_classes": [],
       "_model_module": "@jupyter-widgets/controls",
       "_model_module_version": "2.0.0",
       "_model_name": "FloatProgressModel",
       "_view_count": null,
       "_view_module": "@jupyter-widgets/controls",
       "_view_module_version": "2.0.0",
       "_view_name": "ProgressView",
       "bar_style": "success",
       "description": "",
       "description_allow_html": false,
       "layout": "IPY_MODEL_c66498f768d64884a9d4dbc83e13f3a4",
       "max": 1269.0,
       "min": 0.0,
       "orientation": "horizontal",
       "style": "IPY_MODEL_ae8c39fab00a4201bf3c7562829d6bad",
       "tabbable": null,
       "tooltip": null,
       "value": 1269.0
      }
     },
     "ab917bc19ad04aadb5fe4972004dd54a": {
      "model_module": "@jupyter-widgets/base",
      "model_module_version": "2.0.0",
      "model_name": "LayoutModel",
      "state": {
       "_model_module": "@jupyter-widgets/base",
       "_model_module_version": "2.0.0",
       "_model_name": "LayoutModel",
       "_view_count": null,
       "_view_module": "@jupyter-widgets/base",
       "_view_module_version": "2.0.0",
       "_view_name": "LayoutView",
       "align_content": null,
       "align_items": null,
       "align_self": null,
       "border_bottom": null,
       "border_left": null,
       "border_right": null,
       "border_top": null,
       "bottom": null,
       "display": null,
       "flex": null,
       "flex_flow": null,
       "grid_area": null,
       "grid_auto_columns": null,
       "grid_auto_flow": null,
       "grid_auto_rows": null,
       "grid_column": null,
       "grid_gap": null,
       "grid_row": null,
       "grid_template_areas": null,
       "grid_template_columns": null,
       "grid_template_rows": null,
       "height": null,
       "justify_content": null,
       "justify_items": null,
       "left": null,
       "margin": null,
       "max_height": null,
       "max_width": null,
       "min_height": null,
       "min_width": null,
       "object_fit": null,
       "object_position": null,
       "order": null,
       "overflow": null,
       "padding": null,
       "right": null,
       "top": null,
       "visibility": null,
       "width": null
      }
     },
     "ad86fb7996e24b8bb56bcaad060b0859": {
      "model_module": "@jupyter-widgets/base",
      "model_module_version": "2.0.0",
      "model_name": "LayoutModel",
      "state": {
       "_model_module": "@jupyter-widgets/base",
       "_model_module_version": "2.0.0",
       "_model_name": "LayoutModel",
       "_view_count": null,
       "_view_module": "@jupyter-widgets/base",
       "_view_module_version": "2.0.0",
       "_view_name": "LayoutView",
       "align_content": null,
       "align_items": null,
       "align_self": null,
       "border_bottom": null,
       "border_left": null,
       "border_right": null,
       "border_top": null,
       "bottom": null,
       "display": null,
       "flex": null,
       "flex_flow": null,
       "grid_area": null,
       "grid_auto_columns": null,
       "grid_auto_flow": null,
       "grid_auto_rows": null,
       "grid_column": null,
       "grid_gap": null,
       "grid_row": null,
       "grid_template_areas": null,
       "grid_template_columns": null,
       "grid_template_rows": null,
       "height": null,
       "justify_content": null,
       "justify_items": null,
       "left": null,
       "margin": null,
       "max_height": null,
       "max_width": null,
       "min_height": null,
       "min_width": null,
       "object_fit": null,
       "object_position": null,
       "order": null,
       "overflow": null,
       "padding": null,
       "right": null,
       "top": null,
       "visibility": null,
       "width": null
      }
     },
     "ae8c39fab00a4201bf3c7562829d6bad": {
      "model_module": "@jupyter-widgets/controls",
      "model_module_version": "2.0.0",
      "model_name": "ProgressStyleModel",
      "state": {
       "_model_module": "@jupyter-widgets/controls",
       "_model_module_version": "2.0.0",
       "_model_name": "ProgressStyleModel",
       "_view_count": null,
       "_view_module": "@jupyter-widgets/base",
       "_view_module_version": "2.0.0",
       "_view_name": "StyleView",
       "bar_color": null,
       "description_width": ""
      }
     },
     "c18d033ab0824dd2b7e41fd1784b1d90": {
      "model_module": "@jupyter-widgets/controls",
      "model_module_version": "2.0.0",
      "model_name": "HTMLStyleModel",
      "state": {
       "_model_module": "@jupyter-widgets/controls",
       "_model_module_version": "2.0.0",
       "_model_name": "HTMLStyleModel",
       "_view_count": null,
       "_view_module": "@jupyter-widgets/base",
       "_view_module_version": "2.0.0",
       "_view_name": "StyleView",
       "background": null,
       "description_width": "",
       "font_size": null,
       "text_color": null
      }
     },
     "c66498f768d64884a9d4dbc83e13f3a4": {
      "model_module": "@jupyter-widgets/base",
      "model_module_version": "2.0.0",
      "model_name": "LayoutModel",
      "state": {
       "_model_module": "@jupyter-widgets/base",
       "_model_module_version": "2.0.0",
       "_model_name": "LayoutModel",
       "_view_count": null,
       "_view_module": "@jupyter-widgets/base",
       "_view_module_version": "2.0.0",
       "_view_name": "LayoutView",
       "align_content": null,
       "align_items": null,
       "align_self": null,
       "border_bottom": null,
       "border_left": null,
       "border_right": null,
       "border_top": null,
       "bottom": null,
       "display": null,
       "flex": null,
       "flex_flow": null,
       "grid_area": null,
       "grid_auto_columns": null,
       "grid_auto_flow": null,
       "grid_auto_rows": null,
       "grid_column": null,
       "grid_gap": null,
       "grid_row": null,
       "grid_template_areas": null,
       "grid_template_columns": null,
       "grid_template_rows": null,
       "height": null,
       "justify_content": null,
       "justify_items": null,
       "left": null,
       "margin": null,
       "max_height": null,
       "max_width": null,
       "min_height": null,
       "min_width": null,
       "object_fit": null,
       "object_position": null,
       "order": null,
       "overflow": null,
       "padding": null,
       "right": null,
       "top": null,
       "visibility": null,
       "width": null
      }
     },
     "cb41e99db82f453ea535d609e0a48ff2": {
      "model_module": "@jupyter-widgets/controls",
      "model_module_version": "2.0.0",
      "model_name": "HTMLModel",
      "state": {
       "_dom_classes": [],
       "_model_module": "@jupyter-widgets/controls",
       "_model_module_version": "2.0.0",
       "_model_name": "HTMLModel",
       "_view_count": null,
       "_view_module": "@jupyter-widgets/controls",
       "_view_module_version": "2.0.0",
       "_view_name": "HTMLView",
       "description": "",
       "description_allow_html": false,
       "layout": "IPY_MODEL_ab917bc19ad04aadb5fe4972004dd54a",
       "placeholder": "​",
       "style": "IPY_MODEL_e316b41af39c461a81fb6e9efd2117af",
       "tabbable": null,
       "tooltip": null,
       "value": "config.json: 100%"
      }
     },
     "d3a4712c6b6e4c70b6efcc5135115865": {
      "model_module": "@jupyter-widgets/base",
      "model_module_version": "2.0.0",
      "model_name": "LayoutModel",
      "state": {
       "_model_module": "@jupyter-widgets/base",
       "_model_module_version": "2.0.0",
       "_model_name": "LayoutModel",
       "_view_count": null,
       "_view_module": "@jupyter-widgets/base",
       "_view_module_version": "2.0.0",
       "_view_name": "LayoutView",
       "align_content": null,
       "align_items": null,
       "align_self": null,
       "border_bottom": null,
       "border_left": null,
       "border_right": null,
       "border_top": null,
       "bottom": null,
       "display": null,
       "flex": null,
       "flex_flow": null,
       "grid_area": null,
       "grid_auto_columns": null,
       "grid_auto_flow": null,
       "grid_auto_rows": null,
       "grid_column": null,
       "grid_gap": null,
       "grid_row": null,
       "grid_template_areas": null,
       "grid_template_columns": null,
       "grid_template_rows": null,
       "height": null,
       "justify_content": null,
       "justify_items": null,
       "left": null,
       "margin": null,
       "max_height": null,
       "max_width": null,
       "min_height": null,
       "min_width": null,
       "object_fit": null,
       "object_position": null,
       "order": null,
       "overflow": null,
       "padding": null,
       "right": null,
       "top": null,
       "visibility": null,
       "width": null
      }
     },
     "d5bb9fb510d549458d6651aa7fd23b79": {
      "model_module": "@jupyter-widgets/base",
      "model_module_version": "2.0.0",
      "model_name": "LayoutModel",
      "state": {
       "_model_module": "@jupyter-widgets/base",
       "_model_module_version": "2.0.0",
       "_model_name": "LayoutModel",
       "_view_count": null,
       "_view_module": "@jupyter-widgets/base",
       "_view_module_version": "2.0.0",
       "_view_name": "LayoutView",
       "align_content": null,
       "align_items": null,
       "align_self": null,
       "border_bottom": null,
       "border_left": null,
       "border_right": null,
       "border_top": null,
       "bottom": null,
       "display": null,
       "flex": null,
       "flex_flow": null,
       "grid_area": null,
       "grid_auto_columns": null,
       "grid_auto_flow": null,
       "grid_auto_rows": null,
       "grid_column": null,
       "grid_gap": null,
       "grid_row": null,
       "grid_template_areas": null,
       "grid_template_columns": null,
       "grid_template_rows": null,
       "height": null,
       "justify_content": null,
       "justify_items": null,
       "left": null,
       "margin": null,
       "max_height": null,
       "max_width": null,
       "min_height": null,
       "min_width": null,
       "object_fit": null,
       "object_position": null,
       "order": null,
       "overflow": null,
       "padding": null,
       "right": null,
       "top": null,
       "visibility": null,
       "width": null
      }
     },
     "db4390575d4c418e9c8e09139dc4d65f": {
      "model_module": "@jupyter-widgets/base",
      "model_module_version": "2.0.0",
      "model_name": "LayoutModel",
      "state": {
       "_model_module": "@jupyter-widgets/base",
       "_model_module_version": "2.0.0",
       "_model_name": "LayoutModel",
       "_view_count": null,
       "_view_module": "@jupyter-widgets/base",
       "_view_module_version": "2.0.0",
       "_view_name": "LayoutView",
       "align_content": null,
       "align_items": null,
       "align_self": null,
       "border_bottom": null,
       "border_left": null,
       "border_right": null,
       "border_top": null,
       "bottom": null,
       "display": null,
       "flex": null,
       "flex_flow": null,
       "grid_area": null,
       "grid_auto_columns": null,
       "grid_auto_flow": null,
       "grid_auto_rows": null,
       "grid_column": null,
       "grid_gap": null,
       "grid_row": null,
       "grid_template_areas": null,
       "grid_template_columns": null,
       "grid_template_rows": null,
       "height": null,
       "justify_content": null,
       "justify_items": null,
       "left": null,
       "margin": null,
       "max_height": null,
       "max_width": null,
       "min_height": null,
       "min_width": null,
       "object_fit": null,
       "object_position": null,
       "order": null,
       "overflow": null,
       "padding": null,
       "right": null,
       "top": null,
       "visibility": null,
       "width": null
      }
     },
     "de042686f02848558d751db939e388d3": {
      "model_module": "@jupyter-widgets/controls",
      "model_module_version": "2.0.0",
      "model_name": "FloatProgressModel",
      "state": {
       "_dom_classes": [],
       "_model_module": "@jupyter-widgets/controls",
       "_model_module_version": "2.0.0",
       "_model_name": "FloatProgressModel",
       "_view_count": null,
       "_view_module": "@jupyter-widgets/controls",
       "_view_module_version": "2.0.0",
       "_view_name": "ProgressView",
       "bar_style": "success",
       "description": "",
       "description_allow_html": false,
       "layout": "IPY_MODEL_0adebfc30e3347f9a66e066ca9167ce0",
       "max": 442685101.0,
       "min": 0.0,
       "orientation": "horizontal",
       "style": "IPY_MODEL_3c033a798ab043578029eda7ce6966b8",
       "tabbable": null,
       "tooltip": null,
       "value": 442685101.0
      }
     },
     "e2cc0b490ca140ce9f6d945af70a3086": {
      "model_module": "@jupyter-widgets/base",
      "model_module_version": "2.0.0",
      "model_name": "LayoutModel",
      "state": {
       "_model_module": "@jupyter-widgets/base",
       "_model_module_version": "2.0.0",
       "_model_name": "LayoutModel",
       "_view_count": null,
       "_view_module": "@jupyter-widgets/base",
       "_view_module_version": "2.0.0",
       "_view_name": "LayoutView",
       "align_content": null,
       "align_items": null,
       "align_self": null,
       "border_bottom": null,
       "border_left": null,
       "border_right": null,
       "border_top": null,
       "bottom": null,
       "display": null,
       "flex": null,
       "flex_flow": null,
       "grid_area": null,
       "grid_auto_columns": null,
       "grid_auto_flow": null,
       "grid_auto_rows": null,
       "grid_column": null,
       "grid_gap": null,
       "grid_row": null,
       "grid_template_areas": null,
       "grid_template_columns": null,
       "grid_template_rows": null,
       "height": null,
       "justify_content": null,
       "justify_items": null,
       "left": null,
       "margin": null,
       "max_height": null,
       "max_width": null,
       "min_height": null,
       "min_width": null,
       "object_fit": null,
       "object_position": null,
       "order": null,
       "overflow": null,
       "padding": null,
       "right": null,
       "top": null,
       "visibility": null,
       "width": null
      }
     },
     "e316b41af39c461a81fb6e9efd2117af": {
      "model_module": "@jupyter-widgets/controls",
      "model_module_version": "2.0.0",
      "model_name": "HTMLStyleModel",
      "state": {
       "_model_module": "@jupyter-widgets/controls",
       "_model_module_version": "2.0.0",
       "_model_name": "HTMLStyleModel",
       "_view_count": null,
       "_view_module": "@jupyter-widgets/base",
       "_view_module_version": "2.0.0",
       "_view_name": "StyleView",
       "background": null,
       "description_width": "",
       "font_size": null,
       "text_color": null
      }
     },
     "e31862f8bb2a4024b1a8836d4e7951b4": {
      "model_module": "@jupyter-widgets/controls",
      "model_module_version": "2.0.0",
      "model_name": "HTMLStyleModel",
      "state": {
       "_model_module": "@jupyter-widgets/controls",
       "_model_module_version": "2.0.0",
       "_model_name": "HTMLStyleModel",
       "_view_count": null,
       "_view_module": "@jupyter-widgets/base",
       "_view_module_version": "2.0.0",
       "_view_name": "StyleView",
       "background": null,
       "description_width": "",
       "font_size": null,
       "text_color": null
      }
     },
     "e52d7b515dcc426aaaecb93eb92a8e8f": {
      "model_module": "@jupyter-widgets/base",
      "model_module_version": "2.0.0",
      "model_name": "LayoutModel",
      "state": {
       "_model_module": "@jupyter-widgets/base",
       "_model_module_version": "2.0.0",
       "_model_name": "LayoutModel",
       "_view_count": null,
       "_view_module": "@jupyter-widgets/base",
       "_view_module_version": "2.0.0",
       "_view_name": "LayoutView",
       "align_content": null,
       "align_items": null,
       "align_self": null,
       "border_bottom": null,
       "border_left": null,
       "border_right": null,
       "border_top": null,
       "bottom": null,
       "display": null,
       "flex": null,
       "flex_flow": null,
       "grid_area": null,
       "grid_auto_columns": null,
       "grid_auto_flow": null,
       "grid_auto_rows": null,
       "grid_column": null,
       "grid_gap": null,
       "grid_row": null,
       "grid_template_areas": null,
       "grid_template_columns": null,
       "grid_template_rows": null,
       "height": null,
       "justify_content": null,
       "justify_items": null,
       "left": null,
       "margin": null,
       "max_height": null,
       "max_width": null,
       "min_height": null,
       "min_width": null,
       "object_fit": null,
       "object_position": null,
       "order": null,
       "overflow": null,
       "padding": null,
       "right": null,
       "top": null,
       "visibility": null,
       "width": null
      }
     },
     "e5f73768613948478eb550be472ebc86": {
      "model_module": "@jupyter-widgets/controls",
      "model_module_version": "2.0.0",
      "model_name": "FloatProgressModel",
      "state": {
       "_dom_classes": [],
       "_model_module": "@jupyter-widgets/controls",
       "_model_module_version": "2.0.0",
       "_model_name": "FloatProgressModel",
       "_view_count": null,
       "_view_module": "@jupyter-widgets/controls",
       "_view_module_version": "2.0.0",
       "_view_name": "ProgressView",
       "bar_style": "success",
       "description": "",
       "description_allow_html": false,
       "layout": "IPY_MODEL_fd2c454a651743c490f02f6794d03318",
       "max": 200910.0,
       "min": 0.0,
       "orientation": "horizontal",
       "style": "IPY_MODEL_391209dbdf02497d90c4fb392f0aff64",
       "tabbable": null,
       "tooltip": null,
       "value": 200910.0
      }
     },
     "f8907f18320f4ecfa9bef362b90806f3": {
      "model_module": "@jupyter-widgets/controls",
      "model_module_version": "2.0.0",
      "model_name": "HTMLStyleModel",
      "state": {
       "_model_module": "@jupyter-widgets/controls",
       "_model_module_version": "2.0.0",
       "_model_name": "HTMLStyleModel",
       "_view_count": null,
       "_view_module": "@jupyter-widgets/base",
       "_view_module_version": "2.0.0",
       "_view_name": "StyleView",
       "background": null,
       "description_width": "",
       "font_size": null,
       "text_color": null
      }
     },
     "fd2c454a651743c490f02f6794d03318": {
      "model_module": "@jupyter-widgets/base",
      "model_module_version": "2.0.0",
      "model_name": "LayoutModel",
      "state": {
       "_model_module": "@jupyter-widgets/base",
       "_model_module_version": "2.0.0",
       "_model_name": "LayoutModel",
       "_view_count": null,
       "_view_module": "@jupyter-widgets/base",
       "_view_module_version": "2.0.0",
       "_view_name": "LayoutView",
       "align_content": null,
       "align_items": null,
       "align_self": null,
       "border_bottom": null,
       "border_left": null,
       "border_right": null,
       "border_top": null,
       "bottom": null,
       "display": null,
       "flex": null,
       "flex_flow": null,
       "grid_area": null,
       "grid_auto_columns": null,
       "grid_auto_flow": null,
       "grid_auto_rows": null,
       "grid_column": null,
       "grid_gap": null,
       "grid_row": null,
       "grid_template_areas": null,
       "grid_template_columns": null,
       "grid_template_rows": null,
       "height": null,
       "justify_content": null,
       "justify_items": null,
       "left": null,
       "margin": null,
       "max_height": null,
       "max_width": null,
       "min_height": null,
       "min_width": null,
       "object_fit": null,
       "object_position": null,
       "order": null,
       "overflow": null,
       "padding": null,
       "right": null,
       "top": null,
       "visibility": null,
       "width": null
      }
     },
     "fe60838ffee34e168a55fbb9fd6afb2a": {
      "model_module": "@jupyter-widgets/controls",
      "model_module_version": "2.0.0",
      "model_name": "HBoxModel",
      "state": {
       "_dom_classes": [],
       "_model_module": "@jupyter-widgets/controls",
       "_model_module_version": "2.0.0",
       "_model_name": "HBoxModel",
       "_view_count": null,
       "_view_module": "@jupyter-widgets/controls",
       "_view_module_version": "2.0.0",
       "_view_name": "HBoxView",
       "box_style": "",
       "children": [
        "IPY_MODEL_66be69fc2db84bbb83f93afbf13c8cdf",
        "IPY_MODEL_de042686f02848558d751db939e388d3",
        "IPY_MODEL_4002ea4f30e84620b992b51544b9a755"
       ],
       "layout": "IPY_MODEL_ad86fb7996e24b8bb56bcaad060b0859",
       "tabbable": null,
       "tooltip": null
      }
     }
    },
    "version_major": 2,
    "version_minor": 0
   }
  }
 },
 "nbformat": 4,
 "nbformat_minor": 5
}
